{
  "cells": [
    {
      "cell_type": "markdown",
      "metadata": {
        "id": "LJEt2U1Yv-Ke"
      },
      "source": [
        "# Assignment 2: Topic modeling\n",
        "Authors: Noa Onoszko and Gustav Molander\n",
        "\n",
        "In this assignment we perform Latent Dirichlet Allocation (LDA) for topic modeling. LDA does two things: classifying documents into topics and generates words from those topics. We will look at the latter application so the results will be list of the most common words for each topic.\n",
        "\n",
        "For inference on the parameters in the LDA model, $\\theta_d$ and $\\phi_k$, we will use random walk Markov Chain Monte Carlo and specifically Gibbs sampling. \n",
        "\n",
        "We compare results obtained from doing unigram LDA with standard Gibbs sampling, unigram LDA with collapsed Gibbs sampling and bigram LDA with collapsed Gibbs sampling. The latter model uses contextual knowledge instead of relying on a bag-of-words representation of the corpus."
      ]
    },
    {
      "cell_type": "code",
      "execution_count": 1,
      "metadata": {
        "colab": {
          "base_uri": "https://localhost:8080/"
        },
        "id": "ylkWBH9ivsi7",
        "outputId": "94c855db-e5b6-431e-dbfc-320288eae8df"
      },
      "outputs": [
        {
          "name": "stdout",
          "output_type": "stream",
          "text": [
            "Mounted at /content/drive\n",
            "Archive:  drive/My Drive/NLP/Assignment_1/a1_data.zip\n",
            "   creating: a1_data/\n",
            "  inflating: __MACOSX/._a1_data      \n",
            "  inflating: a1_data/books.txt       \n",
            "  inflating: __MACOSX/a1_data/._books.txt  \n",
            "  inflating: a1_data/wikipedia.txt   \n",
            "  inflating: __MACOSX/a1_data/._wikipedia.txt  \n",
            "  inflating: a1_data/europarl.txt    \n",
            "  inflating: __MACOSX/a1_data/._europarl.txt  \n"
          ]
        }
      ],
      "source": [
        "from google.colab import drive\n",
        "drive.mount('/content/drive')\n",
        "!unzip 'drive/My Drive/NLP/Assignment_1/a1_data.zip'"
      ]
    },
    {
      "cell_type": "markdown",
      "metadata": {
        "id": "JbBqix0898F9"
      },
      "source": [
        "## Data preparation"
      ]
    },
    {
      "cell_type": "markdown",
      "metadata": {
        "id": "o9eLB3sYY-wC"
      },
      "source": [
        "The corpus we are using is comprised of book reviews on Amazon. This means that there could be a lot of misspelled words, and even unintelligible ones. Furthermore, a lot of words do not carry much meaning and can not be assigned to a topic. Therefore our preprocessing is going to consist of the following:\n",
        "\n",
        "\n",
        "*   Removing all stopwords, such as the, is, at, which\n",
        "*   Removing special caracters such as \".\", \",\", \":\", \";\", \"\"\"\"\n",
        "*   Lemmatization of the corpus to combine the counts of different inflections\n",
        "\n",
        "We create a subcorpus consisting of 1400 reviews from the book review corpus, which contains ≈100 000 tokens after preprocessing. The vocabulary consists of a little over 15000 tokens. Here, tokens refers to entities separated by space which is for the most part words, but can also be names, numbers and strange strings like \"n't\". Further preprocessing could be beneficial.\n",
        "\n",
        "In addition to preprocessing, we prepare for the analysis by tokenzing the corpus and define hyperparameters. We also create a vocabulary of all words and encode them as integers."
      ]
    },
    {
      "cell_type": "code",
      "execution_count": 65,
      "metadata": {
        "colab": {
          "base_uri": "https://localhost:8080/",
          "height": 100,
          "referenced_widgets": [
            "3708aca38fa6407b8e3ada1a28a75277",
            "bd14ea8ca2ae4bf490f254d86f873aa3",
            "7954d594e090448d931c4c8233956fc5",
            "9d23c191ca8e4f3dafd3f3c973fe0ae1",
            "bf81e035bf74466abcb5b2a3aabdea17",
            "6ec331063b72455abfd6cf259c64a282",
            "022625f56ce1401681f9b001c8901409",
            "9d10fa61b90d481d881b490c4eb9286d"
          ]
        },
        "id": "COxO0qj8ZCVo",
        "outputId": "9f4e491b-61af-4e5d-9ff0-557a8e32f7f0"
      },
      "outputs": [
        {
          "name": "stdout",
          "output_type": "stream",
          "text": [
            "Number of tokens and unique tokens before preprocessing: 250602, 19987\n"
          ]
        },
        {
          "data": {
            "application/vnd.jupyter.widget-view+json": {
              "model_id": "3708aca38fa6407b8e3ada1a28a75277",
              "version_major": 2,
              "version_minor": 0
            },
            "text/plain": [
              "HBox(children=(FloatProgress(value=0.0, max=1400.0), HTML(value='')))"
            ]
          },
          "metadata": {
            "tags": []
          },
          "output_type": "display_data"
        },
        {
          "name": "stdout",
          "output_type": "stream",
          "text": [
            "\n",
            "Number of tokens and unique tokens before preprocessing: 100472, 15079\n"
          ]
        }
      ],
      "source": [
        "import numpy as np\n",
        "import spacy\n",
        "import nltk\n",
        "from nltk.stem.porter import *\n",
        "import string\n",
        "from tqdm.notebook import tqdm\n",
        "from tqdm.auto import trange\n",
        "\n",
        "def generate_corpus(D):\n",
        "  corpus = []\n",
        "  with open(\"a1_data/books.txt\", encoding=\"ISO-8859-1\") as f:\n",
        "      corpus = [line.lower().split() for l, line in enumerate(f) if l < D]\n",
        "  return corpus\n",
        "\n",
        "# Generate D documents\n",
        "D = 1400 # 1400 number of documents\n",
        "corpus = generate_corpus(D)\n",
        "\n",
        "# Number of words before preprocessing\n",
        "vocab = list(set(word for doc in corpus for word in doc))\n",
        "V = len(vocab) # vocab size\n",
        "print(\"Number of tokens and unique tokens before preprocessing: \", sum(len(line) for line in corpus), \", \", V, sep=\"\")\n",
        "\n",
        "# Preprocess: Remove stopwords and punctuation\n",
        "stemmer = PorterStemmer()\n",
        "sp = spacy.load('en_core_web_sm')\n",
        "all_stopwords = sp.Defaults.stop_words\n",
        "# stemmer.stem(sp(word)[0].lemma_) for stemming\n",
        "for d, doc in enumerate(tqdm(corpus)):\n",
        "  corpus[d] = [sp(word)[0].lemma_ for word in doc if not word in all_stopwords and not word in string.punctuation]\n",
        "\n",
        "\n",
        "# Number of words before preprocessing\n",
        "vocab = list(set(word for doc in corpus for word in doc))\n",
        "V = len(vocab) # vocab size\n",
        "vocab_dict = dict(zip(vocab, range(V)))\n",
        "print(\"Number of tokens and unique tokens before preprocessing: \", sum(len(line) for line in corpus), \", \", V, sep=\"\")"
      ]
    },
    {
      "cell_type": "markdown",
      "metadata": {
        "id": "0gWqxURodKyh"
      },
      "source": [
        "## Standard Gibbs sampling for unigram LDA\n",
        "The first approach is to use regular Gibbs sampling, which essentially works in a few steps:\n",
        "\n",
        "\n",
        "1.   Generate $\\theta_d$ ~ Dir($\\alpha$, ..., $\\alpha$) and $\\phi_k$ ~ Dir($\\beta$, ..., $\\beta$)\n",
        "2.   Choose topic $k$ for word $j$ in document $d$ with probability proportional to $\\theta_d(k)  \\phi_k(v)$ where $v$ is the unique word corresponding to the j:th word in document $d$.\n",
        "3. Use the count of words with topic $k$ per document and count of words with topic $k$ all documents to update $\\theta_d$ and $\\phi_k$\n",
        "4. Repeat from 2 200 times\n",
        "\n",
        "This will generate an approximate sample from the posterior distributions of $\\theta_d$ and $\\phi_k$ that we will use to visualize the topics."
      ]
    },
    {
      "cell_type": "code",
      "execution_count": 18,
      "metadata": {
        "colab": {
          "base_uri": "https://localhost:8080/",
          "height": 66,
          "referenced_widgets": [
            "68789c8faed9470084d8a240143706e9",
            "09ce5611745247f899c53214ad506c5c",
            "c5fafc736d53483794df710de79790e5",
            "3d93e01285724a4e8e6d30915a983d5d",
            "f14e958dd1214f488a8c8de587033a9a",
            "3a3ce9adfd8a43bd896f3bd7f0f20749",
            "36e4bc61db554a22b745e8b1481e994e",
            "d41cc41c52464384aea16d03366a94bc"
          ]
        },
        "id": "x1ir3Pd2R3WU",
        "outputId": "24250b40-22bd-4a62-bc28-5f7a6f16e777"
      },
      "outputs": [
        {
          "data": {
            "application/vnd.jupyter.widget-view+json": {
              "model_id": "68789c8faed9470084d8a240143706e9",
              "version_major": 2,
              "version_minor": 0
            },
            "text/plain": [
              "HBox(children=(FloatProgress(value=0.0, max=200.0), HTML(value='')))"
            ]
          },
          "metadata": {
            "tags": []
          },
          "output_type": "display_data"
        },
        {
          "name": "stdout",
          "output_type": "stream",
          "text": [
            "\n"
          ]
        }
      ],
      "source": [
        "# Gibbs initialization of distribution\n",
        "from tqdm import tqdm\n",
        "from tqdm.auto import trange\n",
        "from time import sleep\n",
        "\n",
        "# Hyperparameters\n",
        "alpha = 0.01\n",
        "beta = alpha\n",
        "K = 50\n",
        "n_iter = 200\n",
        "\n",
        "\n",
        "# Initialize parameters\n",
        "theta = np.zeros((D, K))\n",
        "phi = np.zeros((K, V))\n",
        "for d in range(D):\n",
        "  theta[d] = np.random.dirichlet(K*[alpha]) # 1/K * np.ones(K), uniform distribution, was tried without success\n",
        "for k in range(K):\n",
        "  phi[k, :] = np.random.dirichlet(V*[beta]) # 1/V * np.ones(V), uniform distribution, was tried without success\n",
        "\n",
        "thetas = np.zeros((n_iter, D, K))\n",
        "phis = np.zeros((n_iter, K, V))\n",
        "thetas[0] = theta\n",
        "phis[0] = phi\n",
        "\n",
        "# Gibbs iterations\n",
        "for iter in trange(n_iter):\n",
        "  # Generate topics\n",
        "  Z_dj = D*[[]]\n",
        "  for d in range(D):\n",
        "    Z_dj[d] = len(corpus[d]) * [0]\n",
        "    for j in range(len(corpus[d])):\n",
        "      p = [theta[d,k]*phi[k,j] for k in range(K)]\n",
        "      p = p/sum(p)\n",
        "      Z_dj[d][j] = np.random.choice(range(K), p=p) # np.argmax(p), argmax of the multinomial distribution, was tried without success\n",
        "  \n",
        "  # Update distributions\n",
        "  n_d = np.zeros((D, K))\n",
        "  m_k = np.zeros((K, V))\n",
        "  for d in range(D):\n",
        "    for j in range(len(corpus[d])):\n",
        "      n_d[d, Z_dj[d][j]] += 1\n",
        "      m_k[Z_dj[d][j], vocab_dict[corpus[d][j]]] += 1\n",
        "  for d in range(D):\n",
        "    theta[d] = np.random.dirichlet(K*[alpha] + n_d[d])\n",
        "  for k in range(K):\n",
        "    phi[k] = np.random.dirichlet(V*[beta] + m_k[k])\n",
        "    \n",
        "  # Save parameters\n",
        "  thetas[iter] = theta\n",
        "  phis[iter] = phi"
      ]
    },
    {
      "cell_type": "markdown",
      "metadata": {
        "id": "xxFUE9Da9bjZ"
      },
      "source": [
        "First, let us look at some trace plots from the Gibbs sampling. We see that the parameter values generally concentrated and polarized - either close to 0 or close to 1. This means that the model is very certain which topic each word belongs to and which topic each document belongs to.\n",
        "\n",
        "The trace plots show values of $\\theta_0(0)$, $\\theta_0(1)$, $\\phi_0(0)$, $\\phi_0(1)$ for all iterations.\n",
        "\n",
        "In the trace plot for $\\theta_0(0)$ we see a burn_in of approximately 30 iterations whereas the other parameters seem to stay close to the initial values."
      ]
    },
    {
      "cell_type": "code",
      "execution_count": 24,
      "metadata": {
        "colab": {
          "base_uri": "https://localhost:8080/",
          "height": 309
        },
        "id": "AdTTrPgcelbG",
        "outputId": "71ee7208-87dd-4d98-95dc-663238cfc8b6"
      },
      "outputs": [
        {
          "data": {
            "image/png": "[encoded data removed]",
            "text/plain": [
              "<Figure size 432x288 with 4 Axes>"
            ]
          },
          "metadata": {
            "needs_background": "light",
            "tags": []
          },
          "output_type": "display_data"
        }
      ],
      "source": [
        "import matplotlib.pyplot as plt\n",
        "fig, axs = plt.subplots(2, 2)\n",
        "fig.tight_layout()\n",
        "i = 0\n",
        "axs[0,0].plot(range(n_iter), thetas[:,i,0], label=\"theta_{0,0}\")\n",
        "axs[0,1].plot(range(n_iter), thetas[:,i,1], label=\"theta\")\n",
        "axs[1,0].plot(range(n_iter), phis[:,i,0], label=\"phi\")\n",
        "axs[1,1].plot(range(n_iter), phis[:,i,1], label=\"phi\")\n",
        "axs[0,0].set_title(\"theta\")\n",
        "axs[0,1].set_title(\"theta\")\n",
        "axs[1,0].set_title(\"phi\")\n",
        "axs[1,1].set_title(\"phi\")\n",
        "plt.show()"
      ]
    },
    {
      "cell_type": "markdown",
      "metadata": {
        "id": "aONmLApQD9dM"
      },
      "source": [
        "We can also look at the histogram of for example $\\phi_2(0)$. The model is fairly certain that $\\phi_2(0)$ is close to 0."
      ]
    },
    {
      "cell_type": "code",
      "execution_count": 28,
      "metadata": {
        "colab": {
          "base_uri": "https://localhost:8080/",
          "height": 265
        },
        "id": "jZwEMftMLGjd",
        "outputId": "624ef9a3-6406-4a29-a1b5-fe9025265b9f"
      },
      "outputs": [
        {
          "data": {
            "image/png": "[encoded data removed]",
            "text/plain": [
              "<Figure size 432x288 with 1 Axes>"
            ]
          },
          "metadata": {
            "needs_background": "light",
            "tags": []
          },
          "output_type": "display_data"
        }
      ],
      "source": [
        "i = 2\n",
        "plt.hist(phis[:20,i,0])\n",
        "plt.show()"
      ]
    },
    {
      "cell_type": "markdown",
      "metadata": {
        "id": "OlB-M_eh-Kut"
      },
      "source": [
        "To investigate the topics for words, we use two different approaches.\n",
        "\n",
        "### Topics calculated by absolute frequency\n",
        "First, we look at the words in each category $k$ with highest $\\phi_k$, using the value of $\\phi_k$ from the last iteration. We get very similar words in all categories and we fail to distinguish any meaningful topics. This is reasonable, since we have not adjusted for total word frequency and all reviews are about books.\n",
        "\n",
        "Below are the first five topics.  \n",
        "['book', 'real', 'good', 'turn', 'couplke', 'story', 'like', 'french', 'great', 'process']  \n",
        "['book', 'feel', 'find', 'good', 'get', 'read', 'model', 'event', 'people', 'life']  \n",
        "['work', 'want', 'hope', 'possible', 'jefferson', 'crime', 'easily', 'detective', 'time', 'context']  \n",
        "['book', 'good', 'read', 'story', 'find', 'real', 'clear', 'language', 'accurate', 'life']  \n",
        "['book', 'like', 'read', 'good', 'year', 'love', 'find', 'life', 'go', 'think']"
      ]
    },
    {
      "cell_type": "code",
      "execution_count": 30,
      "metadata": {
        "colab": {
          "base_uri": "https://localhost:8080/"
        },
        "id": "AG0Ix9B6RoXA",
        "outputId": "13b29475-651f-443a-a645-5c4cd5319bbd"
      },
      "outputs": [
        {
          "name": "stdout",
          "output_type": "stream",
          "text": [
            "['book', 'real', 'good', 'turn', 'couplke', 'story', 'like', 'french', 'great', 'process']\n",
            "['book', 'feel', 'find', 'good', 'get', 'read', 'model', 'event', 'people', 'life']\n",
            "['work', 'want', 'hope', 'possible', 'jefferson', 'crime', 'easily', 'detective', 'time', 'context']\n",
            "['book', 'good', 'read', 'story', 'find', 'real', 'clear', 'language', 'accurate', 'life']\n",
            "['book', 'like', 'read', 'good', 'year', 'love', 'find', 'life', 'go', 'think']\n",
            "['book', 'history', 'time', 'find', 'like', 'man', 'read', 'certainly', 'story', 'year']\n",
            "['book', 'read', 'great', 'probably', 'good', 'finshed', 'love', 'begin', 'boil', 'x']\n",
            "['book', 'body', 'beast', 'new', 'young', 'buddha', 'read', 'reader', 'tell', 'knows']\n",
            "['book', 'write', 'large', 'love', 'tokyo', 'think', 'rap', 'daughter', 'start', 'find']\n",
            "['book', 'read', 'go', 'like', 'people', 'give', 'serve', 'understand', 'good', 'touch']\n",
            "['book', 'read', 'good', 'write', 'story', 'thing', 'find', 'page', 'like', 'love']\n",
            "['book', 'give', 'family', 'believe', 'want', 'intervention', 'look', 'end', 'write', 'reading']\n",
            "['quote', 'good', 'orgin', 'know', 'book', 'city', 'pattern', 'process', 'essay', 'canapee']\n",
            "['book', 'good', 'name', 'character', 'find', 'point', 'begin', 'read', 'like', 'take']\n",
            "['book', 'read', 'good', 'story', 'great', 'life', 'like', 'time', 'find', 'reading']\n",
            "['book', 'good', 'work', 'read', 'world', 'cover', 'take', 'like', 'woman', 'write']\n",
            "['book', 'good', 'read', 'novel', 'believe', 'find', 'great', 'people', 'bit', 'help']\n",
            "['book', 'story', 'reading', 'grayson', 'love', 'novel', 'fact', 'good', 'familiar', 'know']\n",
            "['book', 'teaching', 'three', 'boy', 'substantive', 'gourmet', 'delightful', 'life', 'audio', 'interview']\n",
            "['book', 'time', 'love', 'new', 'read', 'find', 'say', 'story', 'philosophy', 'people']\n",
            "['book', 'good', 'life', 'problem', 'feel', 'like', 'time', 'say', 'hear', 'reader']\n",
            "['book', 'like', 'story', 'find', 'man', 'reader', 'reading', 'good', 'change', 'love']\n",
            "['month', 'quote', 'different', 'must', 'process', 'father', 'sneer', 'childhood', 'wear', 'lack']\n",
            "['book', 'read', 'good', 'story', 'great', 'like', 'time', 'find', 'write', 'way']\n",
            "['book', 'find', 'read', 'character', 'thing', 'biography', 'like', 'help', 'suggest', 'recommend']\n",
            "['book', 'life', 'good', 'end', 'deal', 'system', 'story', 'read', 'love', 'new']\n",
            "['book', 'read', 'love', 'movie', 'write', 'like', 'paris', 'story', 'want', 'spelman']\n",
            "['book', 'time', 'like', 'good', 'work', 'character', 'love', 'life', 'people', 'reading']\n",
            "['world', 'lose', 'cardboard', 'read', 'thing', 'claim', 'intuitively', 'spread', 'sixteenth', 'away']\n",
            "['book', 'read', 'business', 'year', 'detail', 'haphazard', 'ongoing', 'explain', 'life', 'divine']\n",
            "['book', 'tibetian', 'read', 'british', '7', 'leo', 'daughter', 'experience', 'clitoris', 'classify']\n",
            "['book', 'give', 'read', 'world', 'come', 'write', 'see', 'science', 'family', 'night']\n",
            "['book', 'way', 'find', 'feel', 'fact', 'version', 'story', 'great', 'time', 'reader']\n",
            "['book', 'read', 'life', 'give', 'page', 'good', 'come', 'story', 'people', 'death']\n",
            "['self', 'book', 'like', 'information', 'skeleton', 'favorite', 'aware', 'expect', 'spenser', 'darwinism']\n",
            "['book', 'good', 'like', 'read', 'find', 'story', 'work', 'write', 'school', 'time']\n",
            "['book', 'write', 'read', 'good', 'time', 'like', 'way', 'know', 'find', 'reading']\n",
            "['book', 'find', 'like', 'read', 'time', 'character', 'great', 'life', 'think', 'know']\n",
            "['book', 'story', 'read', 'life', 'great', 'leave', 'website', 'people', 'author', 'think']\n",
            "['book', 'time', 'read', 'good', 'great', 'find', 'love', 'work', 'finally', 'well']\n",
            "['book', 'way', 'time', 'good', 'write', 'reading', 'novel', 'like', 'read', 'story']\n",
            "['book', 'life', 'way', 'character', 'u.s', 'sam', 'time', 'joy', 'story', 'have']\n",
            "['book', 'read', 'great', 'world', 'story', '2', 'need', 'find', 'principle', 'birder']\n",
            "['book', 'novel', 'clam', 'ashpool', 'life', 'easily', 'scientist', 'think', 'team', 'walk']\n",
            "['book', 'life', 'leave', 'read', 'love', 'good', 'feel', 'way', 'difficulty', 'threat']\n",
            "['book', 'people', 'oxford-', 'thing', 'thought', 'friend', 'common', 'icky', 'good', 'mention']\n",
            "['book', 'abby', 'great', 'good', 'come', 'life', 'like', 'know', 'time', 'interesting']\n",
            "['book', 'novel', 'read', 'like', 'war', 'fact', 'great', 'way', 'science', 'reader']\n",
            "['book', 'read', 'good', 'like', 'reader', 'time', 'day', 'way', 'give', 'novel']\n",
            "['book', 'child', 'novel', 'story', 'guarantee', 'think', 'service', 'struggle', 'near', 'people']\n"
          ]
        }
      ],
      "source": [
        "def print_top_words_by_phi(phi):\n",
        "  top_words = 10\n",
        "  for k in range(K):\n",
        "    ind = np.argpartition(phi[k], -top_words)[-top_words:]\n",
        "    ind = ind[np.argsort(phi[k, ind])]\n",
        "    global vocab\n",
        "    print([vocab[i] for i in np.flip(ind)])\n",
        "print_top_words_by_phi(phi)"
      ]
    },
    {
      "cell_type": "markdown",
      "metadata": {
        "id": "_gXkRiTmdOQE"
      },
      "source": [
        "### Topics calculated by relative frequency\n",
        "Next, we sample 100 000 words in each topic using $\\phi_k$ from the last iteration of the Gibbs sampling. This should yield similar results as when looking at $\\phi_k$ directly since the sample size is large, more than 6 times larger than the vocabulary size. To get the most typical words for each document, we divide the document frequency by the total word frequency, after filtering for the 1000 most common words in the corpus. The filtering excludes words that are misspelled and otherwise very unusual. Removing rare words is good for at least two reasons. First, we will get rid of words that appear very few times and coincidentally have the same topic, which will give them the maximal relative frequency 1. Secondly, and somewhat related, the frequence of rare words is not statistically significant.\n",
        "\n",
        "Looking at the 10 most common words in each sample, we get different words in each topic, but the words do not seem related."
      ]
    },
    {
      "cell_type": "code",
      "execution_count": 31,
      "metadata": {
        "colab": {
          "base_uri": "https://localhost:8080/"
        },
        "id": "YRkbSh-lSpvs",
        "outputId": "ca2f26ca-af9b-4e79-9e36-4185e67015d7"
      },
      "outputs": [
        {
          "name": "stdout",
          "output_type": "stream",
          "text": [
            "['special', 'french', 'official', 'highet', 'trip', 'college', 'brief', 'wake', 'travel', 'publish']\n",
            "['model', 'destroy', 'reward', 'dictionary', 'romance', 'kill', 'king', 'sad', 'useful', 'twist']\n",
            "['detective', 'jefferson', 'context', 'fat', 'weak', 'primary', 'crime', 'psychological', 'david', 'improve']\n",
            "['accurate', 'lengthy', 'restaurant', 'hire', 'usual', 'island', 'content', 'master', 'possibly', 'language']\n",
            "['collection', 'desire', 'focus', 'eat', 'fantasy', 'half', 'surprised', 'revelation', 'disease', 'adventure']\n",
            "['cool', 'fantasy', 'tool', 'certainly', 'local', 'soul', 'letter', 'structure', 'extraordinary', 'sorry']\n",
            "['x', 'management', 'marriage', 'bill', 'range', 'related', 'appropriate', 'judge', 'trouble', 'capture']\n",
            "['beast', 'buddha', 'revelation', 'secretary', 'un', 'global', 'margaret', 'body', 'knows', '10']\n",
            "['tokyo', 'rap', 'joke', 'myth', 'dad', 'mistake', 'shakespeare', 't', 'comprehensive', 'sleep']\n",
            "['careful', 'absolute', 'sarney', 'commitment', 'touch', 'perform', 'horse', 'bed', 'serve', 'spot']\n",
            "['shape', 'rating', 'generally', 'fully', 'william', 's', 'collection', 'longer', 'murder', 'claim']\n",
            "['intervention', 'ludlum', 'mbti', 'lacks', 'frequently', 'surprised', 'suck', 'kissinger', 'transform', 'suppose']\n",
            "['grace', 'sees', 'chee', 'fresh', 'pattern', 'potential', 'audience', 'essay', 'last', 'law']\n",
            "['opportunity', 'journalist', 'extraordinary', 'commitment', 'fourier', 'basically', 'secretary', 'correct', 'condition', 'england']\n",
            "['practice', 'stop', 'collection', 'close', 'beautifully', 'dr', 'pretty', 'cause', 'absolutely', 'tool']\n",
            "['relation', 'sees', 'romance', 'cover', 'west', 'actual', 'possibly', 'gain', 'reminds', 'addition']\n",
            "['compare', 'forward', 'handle', 'comment', 'die', 'treat', 'do', 'pack', 'card', 'extensive']\n",
            "['prison', 'craft', 'strength', 'manner', 'standard', 'plus', 'local', 'familiar', 'somewhat', 'charming']\n",
            "['gourmet', 'hemigway', 'three', 'substantive', 'mae', 'audio', 'significance', 'delightful', 'cite', 'linear']\n",
            "['price', 'pleasure', 'resource', 'desire', 'decide', 'boring', 'low', 'philosophy', 'chinese', 'tie']\n",
            "['hot', 'recently', 'generally', 'craft', 'career', 'range', 'hear', '...', 'despite', 'color']\n",
            "['straight', 'source', 'cultural', 'practice', 'card', 'trouble', 'land', 'moral', 'journalist', 'attention']\n",
            "['sneer', 'publishing', 'must', 'obscure', 'assist', 'mac', 'assume', 'spy', 'goal', 'fairy']\n",
            "['close', 'decision', 'allow', 'beautiful', 'pleasure', 'principle', 'judge', 'copy', 'marriage', 'seek']\n",
            "['30', 'press', 'biography', 'project', 'wine', 'vote', 'handle', 'happens', 'masterpiece', '1']\n",
            "['ethical', 'primary', 'wizard', 'ambition', 'moral', 'travel', 'ship', 'passion', 'building', 'benefit']\n",
            "['charming', 'movie', 'kissinger', 'meat', 'cat', 'charge', 'listen', 'career', 'sorry', 'accurate']\n",
            "['re', 'constant', 'check', 'caliban', 's', 'mystery', 'c', 'teenager', 'potential', 'discussion']\n",
            "['cardboard', 'spread', 'intuitively', 'suspect', 'pull', 'influence', 'claim', 'wealth', 'danger', 'teenager']\n",
            "['divine', 'creative', 'margaret', 'random', 'recommendation', 'americans', 'specie', 'machine', 'pace', 'building']\n",
            "['dice', 'classify', 'tibetian', 'clitoris', 'leo', '7', 'integrate', 'cornish', 'features', 'british']\n",
            "['americans', 'dark', 'murder', 'fat', 'glimpse', 'require', 'internal', 'song', 'appear', 'night']\n",
            "['alex', 'library', 'influence', 'fully', 'version', 'leader', '10', 'reveal', 'solution', 'mom']\n",
            "['bitter', 'rating', 'side', 'surprise', 'fast', 'hit', 'vision', 'weak', 'suggestion', 'hold']\n",
            "['darwinism', 'skeleton', 'spenser', 'broad', 'aware', 'direction', 'hint', 'flaw', 'solve', 'ultimately']\n",
            "['solve', 'lesson', 'apart', 'worthy', 'close', 'pursue', 'dead', 'past', 'fight', 'phrase']\n",
            "['phrase', 'helga', 'card', 'fish', 'deeply', 'attitude', 'york', 'paper', 'action', 'happens']\n",
            "['explore', 'trip', 'mexico', 'special', 'attention', 'unfortunately', 'capture', 'tradition', 'fall', 'hint']\n",
            "['vote', 'ground', 'contemporary', 'apart', 'team', 'north', 'choice', 'global', 'mexico', 'record']\n",
            "['spiritual', 'product', 'ride', 'member', 'ludlum', 'finally', 'compelling', 'passage', 'condition', 'recently']\n",
            "['battle', 'sorry', 'greek', 'position', 'town', 'music', 'outside', 'ethical', 'run', 'adaptation']\n",
            "['sarney', 'u.s', 'joy', 'suspense', 'liath', 'academic', 'plant', 'exactly', 'enjoyable', 'surprise']\n",
            "['principle', 'poet', 'extensive', 'effort', 'impossible', 'bible', 'personally', 'talent', 'record', 'fill']\n",
            "['scientist', 'team', 'manage', 'deeply', 'similar', 'summary', 'translation', 'walk', 'personally', 'river']\n",
            "['threat', 'discusse', 'difficulty', 'paper', 'doubt', 'critic', 'cultural', 'hold', 'race', 'effective']\n",
            "['oxford-', 'icky', 'wizard', 'hardly', 'liath', 'relevant', '1980', 'common', 'suddenly', 'link']\n",
            "['abby', 'reminds', 'hot', '100', 'critic', 'constant', 'imagine', 'truman', 'graphic', 'address']\n",
            "['1980', 'restaurant', 'mom', 'respect', 'recipe', 'faith', 'science', 'numerous', 'familiar', 'deep']\n",
            "['lengthy', 'horse', 'beliefs', 'involve', 'lay', 'rich', 'phrase', 'health', 'piece', 'service']\n",
            "['adaptation', 'suck', 'guarantee', 'wit', 'service', 'near', 'rise', 'obvious', 'greek', 'stage']\n"
          ]
        }
      ],
      "source": [
        "from collections import *\n",
        "def print_top_words_by_sampling(phi):\n",
        "  word_counters = []\n",
        "  total_word_counter = Counter()\n",
        "  generated_words = []\n",
        "  sample_size = 100000\n",
        "  global vocab\n",
        "  for k in range(K):\n",
        "    words = np.random.choice(vocab, sample_size, p=phi[k])\n",
        "    generated_words.extend(words)\n",
        "    word_counter = Counter()\n",
        "    for word in words:\n",
        "      word_counter[word] += 1\n",
        "      total_word_counter[word] += 1\n",
        "    word_counters.append(word_counter)\n",
        "    \n",
        "  new_word_counters = []\n",
        "  most_common_counter = total_word_counter.most_common(1000)\n",
        "  for k in range(K):\n",
        "    most_common_words = [item[0] for item in most_common_counter]\n",
        "    new_word_counters.append(Counter({word: word_counters[k][word] for word in most_common_words}))\n",
        "\n",
        "\n",
        "  word_counters = new_word_counters\n",
        "  for k in range(K):\n",
        "    word_counter = word_counters[k]\n",
        "    for w, word_and_count in enumerate(word_counter.most_common()):\n",
        "      word = word_and_count[0]\n",
        "      word_counter[word] = word_counter[word] / total_word_counter[word]\n",
        "\n",
        "  for k in range(K):\n",
        "    #print(\"---------- k =\", k, \"----------\")\n",
        "    print([item[0] for item in word_counters[k].most_common(10)])\n",
        "\n",
        "print_top_words_by_sampling(phi)"
      ]
    },
    {
      "cell_type": "markdown",
      "metadata": {
        "id": "VB3vaPuOqgfB"
      },
      "source": [
        "## Collapsed Gibbs sampling for unigram LDA\n",
        "Collapsed Gibbs is an alternative to standard Gibbs sampling that directly calculates the probability that a word has a certain topic from counts, without calculating $\\theta_d$ and $\\phi_k$ in every iteration. This makes it approximately twice as our previous implementation.\n",
        "\n",
        "As before, we can not see any patterns in the topics calculated from absolute frequencies of words. However, using relative frequencies and filtering out rare words we get six good patterns that are shown in the table below."
      ]
    },
    {
      "cell_type": "markdown",
      "metadata": {
        "id": "bhoIiOUFxpFE"
      },
      "source": [
        "Success | Spirituality | Education | Evolution | Math | War \n",
        "--- | --- | --- | --- | --- | ---\n",
        "repeat | `soul` | highet | `scientific` | `fourier` | `soviet` \n",
        "cross | `mystical` | jenna | target | `transform` | `soldier` \n",
        "`poor` | meal | tie | `darwin` | `discrete` | `german`\n",
        "`successful` | `mankind` | `expert` | william | `system` | thoroughly\n",
        "`rich` | service | `learning` | ready | `analysis` | `target`\n",
        "`praise` | afraid | `teacher` | forward | song | `red`\n",
        "disappointed | coffee | `teaching` | `sex` | exactly | `battle` \n",
        "`property` | charge | law | `evolution` | table | model\n",
        "`success` | `spiritual` | etc | escape | `property` | darwin\n",
        "`famous` | walk | middle | hell | sleep | addition"
      ]
    },
    {
      "cell_type": "code",
      "execution_count": 11,
      "metadata": {
        "colab": {
          "base_uri": "https://localhost:8080/",
          "height": 115,
          "referenced_widgets": [
            "84ff187f7f7549d186c779e21a58a173",
            "130f68eec4c44e05a76dd87c9502b1c0",
            "880f08069c594d38981e8e05bc634a27",
            "056dcebef09d473881b0b9153ae62803",
            "fe29a31b78704bdb81c8e1b53adfa638",
            "6b30c631869c404c8a5e7020f6d1b32f",
            "70eedc69e6f24b0492486d381f95d58a",
            "5eadc667e301433491ec6da2bbbd6dff",
            "af32348594fc4bf89e092b962d22d94d",
            "dd32f7f4041f4ca9b7de39abbf668168",
            "9e50909033bc4cedbd72522028932fee",
            "ce68e829d11a4eb79a90849dcfe68b7c",
            "c4a5972f60f7402f94965297a7bdcf02",
            "4cb96845b8554166892ac35da6196cb7",
            "68e450d8c4a94aa79ce6d938d3f8549e",
            "f038d4991a3c4f32b36de94ee5e71956"
          ]
        },
        "id": "geHcpVqqqzYx",
        "outputId": "001b6fc4-dae0-479e-dc6c-faa1d9e3fa02"
      },
      "outputs": [
        {
          "data": {
            "application/vnd.jupyter.widget-view+json": {
              "model_id": "84ff187f7f7549d186c779e21a58a173",
              "version_major": 2,
              "version_minor": 0
            },
            "text/plain": [
              "HBox(children=(FloatProgress(value=0.0, max=1400.0), HTML(value='')))"
            ]
          },
          "metadata": {
            "tags": []
          },
          "output_type": "display_data"
        },
        {
          "name": "stdout",
          "output_type": "stream",
          "text": [
            "\n"
          ]
        },
        {
          "data": {
            "application/vnd.jupyter.widget-view+json": {
              "model_id": "af32348594fc4bf89e092b962d22d94d",
              "version_major": 2,
              "version_minor": 0
            },
            "text/plain": [
              "HBox(children=(FloatProgress(value=0.0, max=200.0), HTML(value='')))"
            ]
          },
          "metadata": {
            "tags": []
          },
          "output_type": "display_data"
        },
        {
          "name": "stdout",
          "output_type": "stream",
          "text": [
            "\n"
          ]
        }
      ],
      "source": [
        "# Gibbs initialization of distribution\n",
        "from tqdm import tqdm\n",
        "from tqdm.auto import trange\n",
        "from time import sleep\n",
        "\n",
        "# Hyperparameters and fixed parameters\n",
        "alpha = 0.01\n",
        "beta = alpha\n",
        "K = 50\n",
        "n_iter = 200\n",
        "\n",
        "# Initialize parameters\n",
        "theta = np.zeros((D, K))\n",
        "phi = np.zeros((K, V))\n",
        "for d in range(D):\n",
        "  theta[d] = np.random.dirichlet(K*[alpha])\n",
        "for k in range(K):\n",
        "  phi[k, :] = np.random.dirichlet(V*[beta])\n",
        "\n",
        "# Initialize topics and counts\n",
        "Z_dj = D*[[]]\n",
        "n_d = np.zeros((D, K))\n",
        "m_k = np.zeros((K, V))\n",
        "m_all = np.zeros(K)\n",
        "for d in trange(D):\n",
        "  Z_dj[d] = len(corpus[d]) * [0]\n",
        "  for j in range(len(corpus[d])):\n",
        "    p = [theta[d,k]*phi[k,j] for k in range(K)]\n",
        "    p = p/sum(p)\n",
        "    Z_dj[d][j] = np.random.choice(range(K), p=p)\n",
        "    n_d[d, Z_dj[d][j]] += 1\n",
        "    m_k[Z_dj[d][j], vocab_dict[corpus[d][j]]] += 1\n",
        "m_all = np.sum(m_k, axis=1)\n",
        "\n",
        "# Gibbs iterations\n",
        "for iter in trange(n_iter):\n",
        "  prob_k = np.zeros(K)\n",
        "  for d in range(D):\n",
        "    for j in range(len(corpus[d])):\n",
        "      topic = Z_dj[d][j]\n",
        "      \n",
        "      # Decrement counters\n",
        "      n_d[d, topic] -= 1\n",
        "      m_k[topic, vocab_dict[corpus[d][j]]] -= 1\n",
        "      m_all[topic] -= 1\n",
        "\n",
        "      # Update Z\n",
        "      prob_k = (alpha + n_d[d,:])*(beta + vocab_dict[corpus[d][j]])/(V*beta+m_all)\n",
        "      prob_k = prob_k / np.sum(prob_k)\n",
        "      topic = np.random.choice(range(K), p = prob_k)\n",
        "      Z_dj[d][j] = topic\n",
        "\n",
        "      # Increment counters\n",
        "      n_d[d, topic] += 1\n",
        "      m_k[topic, vocab_dict[corpus[d][j]]] += 1\n",
        "      m_all[topic] += 1\n",
        "  \n",
        "  \n",
        "\n",
        "for d in range(D):\n",
        "  theta[d] = np.random.dirichlet(K*[alpha] + n_d[d])\n",
        "for k in range(K):\n",
        "  phi[k] = np.random.dirichlet(V*[beta] + m_k[k])\n"
      ]
    },
    {
      "cell_type": "markdown",
      "metadata": {
        "id": "WFxBiTX50OxI"
      },
      "source": [
        "### Top words in each topic calculated by absolute frequency"
      ]
    },
    {
      "cell_type": "code",
      "execution_count": 12,
      "metadata": {
        "colab": {
          "base_uri": "https://localhost:8080/"
        },
        "id": "MvQ06G_zyROh",
        "outputId": "11e3d304-44c0-4b4f-ca09-ff63df6efaf7"
      },
      "outputs": [
        {
          "name": "stdout",
          "output_type": "stream",
          "text": [
            "['book', 'find', 'history', 'fact', 'biography', 'provide', 'story', 'know', 'good', 'reading']\n",
            "['book', 'prospero', 'life', 'novel', 'time', 'god', 'love', 'miranda', 'like', 'reading']\n",
            "['book', 'end', 'know', 'author', 'great', 'word', 'get', 'think', 'good', 'story']\n",
            "['book', 'character', 'way', 'time', 'new', 'find', 'starling', 'good', 'great', 'child']\n",
            "['book', 'read', 'find', 'world', 'like', 'think', 'write', 'story', 'great', 'good']\n",
            "['book', 'good', 'asher', 'love', 'read', 'great', 'hilda', 'find', 'reading', 'like']\n",
            "['book', 'good', 'time', 'read', 'make', 'come', 'course', 'look', 'work', 'need']\n",
            "['book', 'author', 'work', 'good', 'story', 'see', 'great', 'subject', 'teritorie', 'father']\n",
            "['book', 'life', 'read', 'great', 'good', 'recommend', 'novel', 'start', 'give', 'time']\n",
            "['book', 'good', 'read', 'man', 'year', 'dog', 'write', 'time', 'come', 'go']\n",
            "['book', 'read', 'chapter', 'good', 'author', 'find', 'history', 'henry', 'story', 'murder']\n",
            "['book', 'read', 'world', 'life', 'new', 'like', 'people', 'story', 'know', 'point']\n",
            "['book', 'great', 'read', 'think', 'like', 'machine', 'character', 'find', 'know', 'writing']\n",
            "['book', 'life', 'world', 'good', 'way', 'time', 'school', 'read', 'recommend', 'language']\n",
            "['book', 'love', 'read', 'offer', 'character', 'give', 'change', 'want', 'feel', 'thought']\n",
            "['book', 'life', 'year', 'story', 'good', 'enemy', 'world', 'end', 'reader', 'work']\n",
            "['book', 'love', 'like', 'work', 'smith', 'time', 'read', 'reader', 'good', 'nature']\n",
            "['book', 'time', 'norris', 'year', 'like', '[', 'english', 'life', 'good', 'people']\n",
            "['book', 'good', 'read', 'new', 'sam', 'time', 'like', 'author', 'buy', 'make']\n",
            "['book', 'reading', 'find', 'read', 'story', 'help', 'year', 'good', 'life', 'time']\n",
            "['book', 'story', 'reading', 'good', 'child', 'thurmond', 'mae', 'find', 'home', 'read']\n",
            "['book', 'read', 'good', 'find', 'great', 'word', 'star', 'like', 'work', 'use']\n",
            "['book', 'story', 'read', 'good', 'game', 'social', 'bell', 'writing', 'player', 'reading']\n",
            "['book', 'read', 'bob', 'real', 'page', 'understand', 'write', 'reader', 'author', 'conflict']\n",
            "['book', 'read', 'time', 'whitman', 'issue', 'good', 'author', 'write', 'like', 'health']\n",
            "['book', 'read', 'good', 'write', 'lesson', 'way', 'great', 'woman', 'like', 'body']\n",
            "['book', 'love', 'good', 'time', 'read', 'find', 'year', 'fermina', 'like', 'story']\n",
            "['book', 'like', 'jason', 'read', 'erica', 'character', 'novel', 'family', 'share', 'people']\n",
            "['book', 'read', 'love', 'great', 'time', 'like', 'reader', 'gaskell', 'story', 'world']\n",
            "['book', 'good', 'people', 'feel', 'great', 'read', 'life', 'like', 'know', 'poor']\n",
            "['book', 'want', 'author', 'chapter', 'read', 'bring', 'love', 'time', 'good', 'like']\n",
            "['book', 'story', 'read', 'life', 'susannah', 'people', 'good', 'public', 'education', 'class']\n",
            "['book', 'read', 'find', 'world', 'soul', 'time', 'like', 'plot', 'good', 'series']\n",
            "['book', 'highet', 'read', 'jenna', 'time', 'good', 'teacher', 'student', 'great', 'reading']\n",
            "['book', 'read', 'story', 'find', 'year', 'world', 'great', 'time', 'life', 'comprehensive']\n",
            "['book', 'read', 'time', 'old', 'like', 'good', 'work', 'man', 'love', 'great']\n",
            "['book', 'woman', 'read', 'good', 'way', 'find', 'end', 'want', 'sex', 'bad']\n",
            "['book', 'read', 'character', 'cat', 'story', 'like', 'know', 'people', 'little', 'thing']\n",
            "['book', 'great', 'recommend', 'work', 'time', 'write', 'writing', 'introduction', 'read', 'find']\n",
            "['book', 'read', 'like', 'story', 'love', 'good', 'life', 'reading', 'adso', 'go']\n",
            "['book', 'read', 'reader', 'novel', 'find', 'good', 'write', 'time', 'mcginnis', 'lung']\n",
            "['book', 'read', 'story', 'write', 'day', 'family', \"o'neill\", 'play', 'people', 'great']\n",
            "['book', 'good', 'child', 'work', 'read', 'primary', 'get', 'well', 'story', 'help']\n",
            "['book', 'good', 'life', 'start', 'time', 'like', 'read', 'people', 'love', 'child']\n",
            "['book', 'system', 'fourier', 'transform', 'good', 'great', 'discrete', 'signal', 'read', 'time']\n",
            "['book', 'news', 'way', 'good', 'fact', 'time', 'use', 'find', 'number', 'people']\n",
            "['book', 'read', 'write', 'betsy', 'character', 'prophetic', 'new', 'style', 'writing', 'look']\n",
            "['book', 'story', 'horse', 'read', 'great', 'want', 'like', 'love', 'find', 'tell']\n",
            "['book', 'read', 'soviet', 'soldier', 'write', 'life', 'time', 'love', 'find', 'man']\n",
            "['book', 'read', 'old', 'want', 'go', 'information', 'write', 'of.yeah', 'student', 'people']\n"
          ]
        }
      ],
      "source": [
        "print_top_words_by_phi(phi)"
      ]
    },
    {
      "cell_type": "markdown",
      "metadata": {
        "id": "I1TdCeAP0c7S"
      },
      "source": [
        "### Top words in each topic calculated by relative frequency"
      ]
    },
    {
      "cell_type": "code",
      "execution_count": 15,
      "metadata": {
        "colab": {
          "base_uri": "https://localhost:8080/"
        },
        "id": "VcyaGf5nyeOO",
        "outputId": "049cb890-2a43-45cb-f66a-3a2c0adb75d4"
      },
      "outputs": [
        {
          "name": "stdout",
          "output_type": "stream",
          "text": [
            "---------- k = 0 ----------\n",
            "['oil', 'biography', 'guralnick', 'sam', 'feeling', 'advantage', 'honest', 'promote', 'discover', 'novice']\n",
            "---------- k = 1 ----------\n",
            "['prospero', 'king', 'condition', 'god', 'fat', 'ship', 's', 'express', 'break', 'computer']\n",
            "---------- k = 2 ----------\n",
            "['available', 'religion', 'christianity', 'constantly', 'biography', 'novice', 'north', 'outcome', 'ultimately', 'weave']\n",
            "---------- k = 3 ----------\n",
            "['instruction', 'africa', '20th', 'french', 'homeless', 'increase', '9', 'intelligence', 'dynamic', 'machine']\n",
            "---------- k = 4 ----------\n",
            "['lemon', 'west', 'fresh', 'cite', 'fascinating', 'conclude', 'ethical', 'effective', 'recent', 'treat']\n",
            "---------- k = 5 ----------\n",
            "['asher', 'afraid', 'hint', 'manager', 'paint', 'tension', '20th', 'killer', 'ice', 'suppose']\n",
            "---------- k = 6 ----------\n",
            "['lemon', 'appropriate', 'blue', 'average', 'poem', 'effect', 'music', 'control', 'outcome', 'gift']\n",
            "---------- k = 7 ----------\n",
            "['hearing', 'un', 'applied', 'anti', 'argument', 'happy', 'mathematics', 'effort', 'limit', 'survive']\n",
            "---------- k = 8 ----------\n",
            "['thomas', 'tend', 'address', 'despite', 'couple', 'conclusion', 'educate', 'spot', 'political', 'imagination']\n",
            "---------- k = 9 ----------\n",
            "['dog', 'company', 'exist', 'translation', 'regardless', 'constantly', 'academic', 'quickly', 'fish', 'paper']\n",
            "---------- k = 10 ----------\n",
            "['henry', 'alex', 'murder', 'argue', 'refer', 'cross', 'killer', 'soul', 'baseball', 'companion']\n",
            "---------- k = 11 ----------\n",
            "['virginia', 'limit', 'turner', 'white', 'complex', 'norris', 'fear', 'produce', 'england', 'dad']\n",
            "---------- k = 12 ----------\n",
            "['machine', 'brain', 'produce', 'benefit', 'leadership', 'generation', 'walk', 'intelligence', 'coffee', 'ethical']\n",
            "---------- k = 13 ----------\n",
            "['nearly', 'shoe', 'england', 'fat', 'owner', 'complaint', 'house', 'earth', 'laugh', 'p']\n",
            "---------- k = 14 ----------\n",
            "['ancient', 'danger', 'military', 'intense', 'king', 'avoid', 'offer', 'movement', 'fantasy', 'beautifully']\n",
            "---------- k = 15 ----------\n",
            "['enemy', 'huge', 'commentary', 'near', 'yes', 'wealth', 'jenna', 'indians', 'element', 'ultimately']\n",
            "---------- k = 16 ----------\n",
            "['smith', 'mankind', 'c', 'solution', 'trust', 'nature', 'pain', 'essential', 'seriously', 'apply']\n",
            "---------- k = 17 ----------\n",
            "['norris', '[', 'tension', 'argue', 'english', '000', 'difficulty', 'root', 'represent', 'de']\n",
            "---------- k = 18 ----------\n",
            "['guralnick', 'sam', 'medium', 'beginner', 'difficulty', 'danger', 'civil', '000', 'principle', 'native']\n",
            "---------- k = 19 ----------\n",
            "['pattern', 'demonstrate', 'shoe', 'discusse', 'india', 'key', 'earlier', 'animal', 'owner', 'laugh']\n",
            "---------- k = 20 ----------\n",
            "['arrive', 'universe', 'ready', 'library', 'recommendation', 'impossible', 'imagine', 'space', 'difference', 'french']\n",
            "---------- k = 21 ----------\n",
            "['teenager', 'coffee', 'accurate', 'refreshing', 'star', 'level', 'adult', 'repeat', 'purpose', 'killer']\n",
            "---------- k = 22 ----------\n",
            "['bell', 'threat', 'private', 'internet', 'fairly', 'insist', 'outcome', 'player', 'battle', 'source']\n",
            "---------- k = 23 ----------\n",
            "['bob', 'discusse', 'conflict', 'prospero', 'recommendation', 'homeless', 'activity', 'record', 'program', 'entire']\n",
            "---------- k = 24 ----------\n",
            "['baseball', 'health', 'owner', 'christian', 'fail', 'extremely', 'film', 'security', 'washington', 'city']\n",
            "---------- k = 25 ----------\n",
            "['lesson', 'james', 'admit', 'garden', 'relate', 'german', 'balance', 'contemporary', 'body', 'fresh']\n",
            "---------- k = 26 ----------\n",
            "['india', 'core', 'york', 'pack', 'letter', 'bell', 'center', 'compelling', 'activity', 'drug']\n",
            "---------- k = 27 ----------\n",
            "['jason', 'erica', 'british', 'ship', '100', 'share', 'india', 'context', 'fish', 'material']\n",
            "---------- k = 28 ----------\n",
            "['critic', 'land', 'building', 'attitude', 'combine', 'baby', 'robert', 'thousand', 'professor', 'deeply']\n",
            "---------- k = 29 ----------\n",
            "['repeat', 'cross', 'poor', 'successful', 'rich', 'praise', 'disappointed', 'property', 'success', 'famous']\n",
            "---------- k = 30 ----------\n",
            "['cut', 'cop', 'peter', 'alex', 'north', 'deserve', 'constantly', 'property', 'complex', 'magic']\n",
            "---------- k = 31 ----------\n",
            "['tree', 'dynamic', 'perspective', 'education', 's', 'reward', 'allows', 'advanced', 'public', 'approach']\n",
            "---------- k = 32 ----------\n",
            "['soul', 'mystical', 'meal', 'mankind', 'service', 'afraid', 'coffee', 'charge', 'spiritual', 'walk']\n",
            "---------- k = 33 ----------\n",
            "['highet', 'jenna', 'tie', 'expert', 'learning', 'teacher', 'teaching', 'law', 'etc', 'middle']\n",
            "---------- k = 34 ----------\n",
            "['comprehensive', 'debate', 'test', 'remarkable', 'ms', 'search', 'leadership', 'table', 'put', 'rise']\n",
            "---------- k = 35 ----------\n",
            "['dead', 'fish', 'air', '30', 'george', 'production', 'imagination', 'impossible', 'market', 'moral']\n",
            "---------- k = 36 ----------\n",
            "['scientific', 'target', 'darwin', 'william', 'ready', 'forward', 'sex', 'evolution', 'escape', 'hell']\n",
            "---------- k = 37 ----------\n",
            "['wine', 'cat', 'stands', 'tradition', 'faith', '10', 'translation', 'waste', 'longer', 'spiritual']\n",
            "---------- k = 38 ----------\n",
            "['p', 'poem', 'era', 'low', 'deeply', 'sexual', 'publication', 'success', 'ethical', 'complicated']\n",
            "---------- k = 39 ----------\n",
            "['hardly', 'soldier', 'dark', 'africa', 'reality', 'de', 'skill', 'capture', 'hearing', 'technique']\n",
            "---------- k = 40 ----------\n",
            "['scientific', 'george', 'inside', 'alex', 'storyline', 'secret', 'trust', 'box', 'expert', 'expose']\n",
            "---------- k = 41 ----------\n",
            "['vietnam', 'essay', 'error', 'machine', 'memories', 'attack', 'un', 'computer', 'objective', 'wonder']\n",
            "---------- k = 42 ----------\n",
            "['primary', 'vision', 'strength', 'tend', 'hold', 'academic', 'indians', 'wisdom', 'combine', 'aside']\n",
            "---------- k = 43 ----------\n",
            "['magic', 'christianity', 'attitude', 'indians', 'de', 'internet', 'publish', 'energy', 'promote', 'rule']\n",
            "---------- k = 44 ----------\n",
            "['fourier', 'transform', 'discrete', 'system', 'analysis', 'song', 'exactly', 'table', 'property', 'sleep']\n",
            "---------- k = 45 ----------\n",
            "['news', 'suspect', 'homeless', 'advanced', 'all', 'medium', 'report', 'million', 'weight', '30']\n",
            "---------- k = 46 ----------\n",
            "['suspect', 'leadership', 'discussion', 'washington', 'town', '20', 'oil', 'police', 'myth', 'novice']\n",
            "---------- k = 47 ----------\n",
            "['horse', 'illustrated', 'graphic', 'weave', 'wisdom', 'cite', 'conclude', 'refer', 'mystical', 'fat']\n",
            "---------- k = 48 ----------\n",
            "['soviet', 'soldier', 'german', 'thoroughly', 'target', 'red', 'battle', 'model', 'darwin', 'addition']\n",
            "---------- k = 49 ----------\n",
            "['ice', 'debate', 'tone', 'production', 'usual', 'blue', 'recent', 'support', 'chance', 'insist']\n"
          ]
        }
      ],
      "source": [
        "print_top_words_by_sampling(phi)"
      ]
    },
    {
      "cell_type": "markdown",
      "metadata": {
        "id": "LnqVe9WO-UDF"
      },
      "source": [
        "## Collapsed Gibbs sampling for bigram LDA\n",
        "Here we are using an algorithm presented in the paper [Topic modeling: beyond bag-of-words. ICML (2006) 977-984](http://dirichlet.net/pdf/wallach06topic.pdf). We are specifically implementing the E-step of the EM-algorithm in subsection 4.1. The algorithm yields a sample of $Z_{dj}$. Unlike before, we consider not only counts of words in topics but also bigrams.\n",
        "\n",
        "We use the hyperparameters $\\alpha = \\beta = 0.01$, with $K=5$ and $K=10$. Collapsed Gibbs sampling is used for this algorithm. To look at topics, we utilize $Z_{dj}$ and calculate absolute and relative frequencies of words for each topic.\n",
        "\n",
        "For $K=5$, three out of five topics are good. The results are shown below.\n",
        "\n",
        "Math | Nonsense | WW2 | Nonsense | Nature\n",
        "--- | --- | --- | --- | ---\n",
        "`\u001bfourier`   | `norris`  | `soviet`  | p         | prospero\n",
        "`transform` | machine | `army`    | `tree`      | `snow`\n",
        "`signal`    | erica   | sam     | `garden` | `fish`\n",
        "`discrete`  | jason   | horse   | medium   | `field`\n",
        "`mathematics` | oil   | core    | talent   |  `boat`\n",
        "organize  | intelligence | laugh | jenna | `plant`\n",
        "indian    | [        | official | smith | christian\n",
        "humanity  | cat     | `german`   | washington | soul\n",
        "s         | fail    | document | wish | strength\n",
        "highet    | `film`    | critical | beginner | rich\n",
        "\n",
        "For $K=10$, we only get two good topics. Interestingly, the second topic could be either WW2 or intelligence.\n",
        "Math | WW2 or intelligence \n",
        "--- | --- \n",
        "`\u001bfourier`   | *machine*\n",
        "`transform` | `army`\n",
        "`discrete`  | `soviet`   \n",
        "`signal`    | *intelligence*  \n",
        "horse | *computer*   \n",
        "[  | energy \n",
        "soul    | `german`        \n",
        "`system`  | contemporary     \n",
        "un         | potential    \n",
        "french    | *brain*    \n",
        "\n"
      ]
    },
    {
      "cell_type": "code",
      "execution_count": 60,
      "metadata": {
        "colab": {
          "base_uri": "https://localhost:8080/",
          "height": 115,
          "referenced_widgets": [
            "f2ba47ae8f664c64a766f7d61a5f8c92",
            "b64456626c0f480785e687b75b55167f",
            "2b84e2c6d05e4332b544a4fc5107a359",
            "cb1e0deabe7a493c805838a6ce4abffe",
            "fb3436618f424416bfc553a1c365216e",
            "69c78956851f40b39f301817e3a9fe2f",
            "4689d57f0a0e4d91b73352535ae50c97",
            "4580c84a1eb14d25b37f210ca3b00d86",
            "7c4b13ac179d4e9abd01371723ae69e5",
            "18029be1b50643449a4f59ee20f414db",
            "56aaf85b5a03436991db6bb2f64d9250",
            "510ad2a58f6b497f84e78a025e4c8d13",
            "38795cbf41ab4406b75f8113c87196b8",
            "2d6982d822164a4eb0b24877bebdf30a",
            "7de91e74ae5f4377b4f150e19b04c9fa",
            "98a3ce0a16f44164ab6141c4a4c8765d"
          ]
        },
        "id": "Qbhvb1s89R2j",
        "outputId": "a6dfe0a6-9f15-4b43-8585-dc5ba8476a76"
      },
      "outputs": [
        {
          "data": {
            "application/vnd.jupyter.widget-view+json": {
              "model_id": "f2ba47ae8f664c64a766f7d61a5f8c92",
              "version_major": 2,
              "version_minor": 0
            },
            "text/plain": [
              "HBox(children=(FloatProgress(value=0.0, max=1400.0), HTML(value='')))"
            ]
          },
          "metadata": {
            "tags": []
          },
          "output_type": "display_data"
        },
        {
          "name": "stdout",
          "output_type": "stream",
          "text": [
            "\n"
          ]
        },
        {
          "data": {
            "application/vnd.jupyter.widget-view+json": {
              "model_id": "7c4b13ac179d4e9abd01371723ae69e5",
              "version_major": 2,
              "version_minor": 0
            },
            "text/plain": [
              "HBox(children=(FloatProgress(value=0.0, max=200.0), HTML(value='')))"
            ]
          },
          "metadata": {
            "tags": []
          },
          "output_type": "display_data"
        },
        {
          "name": "stdout",
          "output_type": "stream",
          "text": [
            "\n"
          ]
        }
      ],
      "source": [
        "# Gibbs initialization of distribution\n",
        "  # {Nwt|wt−1,k}−t  = number of bigrams in the whole corpus where the latter word has topic k,        if the particular word occurence w_t is ignored\n",
        "  # {Nk|dt}−t       = number of words in the current document with topic k,                           if the particular word occurence w_t is ignored\n",
        "  # {Nwt−1,k}−t     = number of words in the whole corpus succeeding w_t-1 that has topic k,          if the particular word occurence w_t is ignored\n",
        "from tqdm import tqdm\n",
        "from tqdm.auto import trange\n",
        "from time import sleep\n",
        "\n",
        "def perform_gibbs_bigram(K):\n",
        "  # Hyperparameters and fixed parameters\n",
        "  alpha = 0.01\n",
        "  beta = alpha\n",
        "  n_iter = 200\n",
        "\n",
        "  # Initialize Z_dj\n",
        "  Z_dj = D*[[]]\n",
        "  for d in trange(D):\n",
        "    Z_dj[d] = len(corpus[d]) * [0]\n",
        "    for j in range(len(corpus[d])):\n",
        "      Z_dj[d] = np.random.choice(range(K), size = len(corpus[d]))\n",
        "\n",
        "  # Initialize counters\n",
        "  N_bigram_k = dict()\n",
        "  N_succeeding_k = dict()\n",
        "  N_dk = np.zeros((D, K))\n",
        "  for d in range(D):\n",
        "    N_dk[d, Z_dj[d][0]] += 1\n",
        "    for j in range(len(corpus[d]) - 1):\n",
        "      unique_word1 = vocab_dict[corpus[d][j]]\n",
        "      unique_word2 = vocab_dict[corpus[d][j + 1]]\n",
        "      topic = Z_dj[d][j+1]\n",
        "      \n",
        "      # N_bigram_k\n",
        "      if not unique_word2 in N_bigram_k:  # if dict for succeeding word doesn't exist, create it\n",
        "          N_bigram_k[unique_word2] = dict()\n",
        "      if (\n",
        "          not unique_word1 in N_bigram_k[unique_word2]\n",
        "      ):  # if dict for preceding word doesn't exist, create it and put empty array in it\n",
        "          counts_k = np.zeros(K)\n",
        "          N_bigram_k[unique_word2][unique_word1] = counts_k\n",
        "      N_bigram_k[unique_word2][unique_word1][topic] += 1\n",
        "\n",
        "      # N_succeeding_k\n",
        "      if not unique_word1 in N_succeeding_k:\n",
        "        counts_k = np.zeros(K)\n",
        "        N_succeeding_k[unique_word1] = counts_k\n",
        "      N_succeeding_k[unique_word1][topic] += 1\n",
        "\n",
        "      # N_dk\n",
        "      N_dk[d, topic] += 1\n",
        "\n",
        "  # Gibbs iterations\n",
        "  for iter in trange(n_iter):\n",
        "    prob_k = np.zeros(K)\n",
        "    for d in range(D):\n",
        "      for j in range(len(corpus[d]) - 1):\n",
        "        unique_word1 = vocab_dict[corpus[d][j]]\n",
        "        unique_word2 = vocab_dict[corpus[d][j + 1]]\n",
        "        topic = Z_dj[d][j+1]\n",
        "        \n",
        "        # Decrement counters\n",
        "        N_bigram_k[unique_word2][unique_word1][topic] -= 1\n",
        "        N_succeeding_k[unique_word1][topic] -= 1\n",
        "        N_dk[d, topic] -= 1\n",
        "\n",
        "        # Update Z\n",
        "        prob_k = (N_bigram_k[unique_word2][unique_word1][:] + beta)*(N_dk[d, :] + alpha)/(N_succeeding_k[unique_word1][:] + V * beta)\n",
        "        prob_k = prob_k / np.sum(prob_k)\n",
        "        topic = np.random.choice(range(K), p = prob_k)\n",
        "        Z_dj[d][j+1] = topic\n",
        "\n",
        "        # Increment counters\n",
        "        N_bigram_k[unique_word2][unique_word1][topic] += 1\n",
        "        N_succeeding_k[unique_word1][topic] += 1\n",
        "        N_dk[d, topic] += 1\n",
        "  return Z_dj\n",
        "Z_dj = perform_gibbs_bigram(5)"
      ]
    },
    {
      "cell_type": "markdown",
      "metadata": {
        "id": "y0yNQuKVtZFH"
      },
      "source": [
        "### Topics for $K=5$ using absolute frequency"
      ]
    },
    {
      "cell_type": "code",
      "execution_count": 63,
      "metadata": {
        "colab": {
          "base_uri": "https://localhost:8080/"
        },
        "id": "rM6qfcz1MABl",
        "outputId": "1809c370-aa06-4d62-d526-ee6363d92cb7"
      },
      "outputs": [
        {
          "name": "stdout",
          "output_type": "stream",
          "text": [
            "[('book', 570), ('read', 171), ('good', 140), ('story', 115), ('like', 106), ('great', 104), ('life', 99), ('way', 87), ('write', 86), ('time', 86)]\n",
            "[('book', 752), ('read', 203), ('good', 152), ('time', 135), ('like', 131), ('story', 127), ('life', 121), ('great', 113), ('find', 104), ('love', 98)]\n",
            "[('book', 912), ('read', 246), ('good', 191), ('like', 169), ('find', 168), ('story', 167), ('time', 158), ('life', 134), ('love', 134), ('work', 124)]\n",
            "[('book', 312), ('read', 104), ('good', 92), ('time', 72), ('great', 71), ('find', 70), ('like', 62), ('story', 55), ('life', 50), ('work', 49)]\n",
            "[('book', 409), ('read', 113), ('good', 88), ('like', 84), ('work', 67), ('story', 65), ('time', 63), ('find', 61), ('people', 59), ('world', 57)]\n"
          ]
        }
      ],
      "source": [
        "K = 5\n",
        "vk_counts = dict()\n",
        "total_counts = Counter()\n",
        "for d in range(D):\n",
        "    for j in range(len(corpus[d]) - 1): # don't consider the first word of each document since this Z has never been updated\n",
        "      topic = Z_dj[d][j]\n",
        "      if not topic in vk_counts:\n",
        "        vk_counts[topic] = Counter()\n",
        "      unique_word_actual_word = corpus[d][j + 1]\n",
        "      vk_counts[topic][unique_word_actual_word] += 1\n",
        "\n",
        "      # Total counts\n",
        "      total_counts[unique_word_actual_word] += 1\n",
        "\n",
        "# Print topics by absolute counts\n",
        "vk_most_common10 = K*[[]]\n",
        "for k in range(K):\n",
        "  vk_most_common10[k] = vk_counts[k].most_common(10)\n",
        "  print(vk_most_common10[k])"
      ]
    },
    {
      "cell_type": "markdown",
      "metadata": {
        "id": "fFTCEAH9u-MJ"
      },
      "source": [
        "### Topics for $K=5$ using relative frequency"
      ]
    },
    {
      "cell_type": "code",
      "execution_count": 64,
      "metadata": {
        "colab": {
          "base_uri": "https://localhost:8080/"
        },
        "id": "PDArocoH7hXI",
        "outputId": "e534686b-f864-4543-9686-94495641edfa"
      },
      "outputs": [
        {
          "name": "stdout",
          "output_type": "stream",
          "text": [
            "['jason', 'fish', 'medium', 'highet', '[', 'erica', 'oil', 'global', 'commentary', 'education']\n",
            "['fourier', 'signal', 'transform', 'discrete', 'fairly', 'academic', 'property', 'cross', 'land', 'cat']\n",
            "['norris', 'jenna', 'crime', 'element', 'drive', 'familiar', 'everyday', 'waste', 'relate', 'bill']\n",
            "['prospero', 'machine', 'army', 'journalist', 'german', 'magic', 'letter', 'god', 'myth', 'stage']\n",
            "['sam', 'p', 'soviet', 'snow', 'argument', 'attitude', 'military', 'smith', 'philosophy', 'flaw']\n"
          ]
        }
      ],
      "source": [
        "# Rename to enable use of old code\n",
        "word_counters = vk_counts\n",
        "total_word_counter = total_counts\n",
        "\n",
        "new_word_counters = []\n",
        "most_common_counter = total_counts.most_common(1000)\n",
        "for k in range(K):\n",
        "  most_common_words = [item[0] for item in most_common_counter]\n",
        "  new_word_counters.append(Counter({word: word_counters[k][word] for word in most_common_words}))\n",
        "\n",
        "word_counters = new_word_counters\n",
        "for k in range(K):\n",
        "  word_counter = word_counters[k]\n",
        "  for w, word_and_count in enumerate(word_counter.most_common()):\n",
        "    word = word_and_count[0]\n",
        "    word_counter[word] = word_counter[word] / total_word_counter[word]\n",
        "\n",
        "for k in range(K):\n",
        "  #print(\"---------- k =\", k, \"----------\")\n",
        "  print([item[0] for item in word_counters[k].most_common(10)])"
      ]
    },
    {
      "cell_type": "markdown",
      "metadata": {
        "id": "olDH3PaF5BYz"
      },
      "source": [
        "### Perform Gibbs sampling with $K=10$"
      ]
    },
    {
      "cell_type": "code",
      "execution_count": 53,
      "metadata": {
        "colab": {
          "base_uri": "https://localhost:8080/",
          "height": 115,
          "referenced_widgets": [
            "3b72c8e6bac44ed48bd7d0d640f1f5ae",
            "f6874936426e4b8f808e4658534eb269",
            "0dfc270a82844a5792d2b3f44ab18012",
            "dbd0d1bcd58440aaab9e83ec3d12a12d",
            "728c646e8530432bad63cc300307ce7c",
            "379e2165db7d41348298242fb0fd998b",
            "d93d7241fb104fe6bd7aec35a4859791",
            "bea98f122b4a472cb60df5a5443a2cba",
            "af92c777aff94d5b84230cccf739a89f",
            "d485b602d5704a6c874cfb9fd7900121",
            "df60ecbf90f1442a90f88d78eba82acd",
            "8d60df531c9548309ac2b82ed4d7ddaf",
            "346ec33dbaed4c439426b183cb4d79f9",
            "5acbf8eea98e47a58d6463d552eeab9f",
            "e05b3911c9164028bd923e91f2233fc5",
            "8e518666fca2474e8de8f356482bbcd9"
          ]
        },
        "id": "HKNe0ly8KkyW",
        "outputId": "7870b437-cb94-4774-d653-76a8cc244850"
      },
      "outputs": [
        {
          "data": {
            "application/vnd.jupyter.widget-view+json": {
              "model_id": "3b72c8e6bac44ed48bd7d0d640f1f5ae",
              "version_major": 2,
              "version_minor": 0
            },
            "text/plain": [
              "HBox(children=(FloatProgress(value=0.0, max=1400.0), HTML(value='')))"
            ]
          },
          "metadata": {
            "tags": []
          },
          "output_type": "display_data"
        },
        {
          "name": "stdout",
          "output_type": "stream",
          "text": [
            "\n"
          ]
        },
        {
          "data": {
            "application/vnd.jupyter.widget-view+json": {
              "model_id": "af92c777aff94d5b84230cccf739a89f",
              "version_major": 2,
              "version_minor": 0
            },
            "text/plain": [
              "HBox(children=(FloatProgress(value=0.0, max=200.0), HTML(value='')))"
            ]
          },
          "metadata": {
            "tags": []
          },
          "output_type": "display_data"
        },
        {
          "name": "stdout",
          "output_type": "stream",
          "text": [
            "\n"
          ]
        }
      ],
      "source": [
        "Z_dj = perform_gibbs_bigram(10)"
      ]
    },
    {
      "cell_type": "markdown",
      "metadata": {
        "id": "tAxT3MGn5GWN"
      },
      "source": [
        "### Topics for $K=10$ using absolute frequency"
      ]
    },
    {
      "cell_type": "code",
      "execution_count": 57,
      "metadata": {
        "colab": {
          "base_uri": "https://localhost:8080/"
        },
        "id": "po661Y6mTgXT",
        "outputId": "4d26d762-884e-4d75-de4e-20edab0e28b0"
      },
      "outputs": [
        {
          "name": "stdout",
          "output_type": "stream",
          "text": [
            "[('book', 150), ('good', 35), ('read', 32), ('love', 26), ('time', 25), ('find', 23), ('world', 20), ('page', 20), ('way', 18), ('great', 18)]\n",
            "[('book', 76), ('read', 23), ('good', 22), ('time', 19), ('life', 19), ('great', 16), ('story', 15), ('work', 14), ('reader', 13), ('help', 11)]\n",
            "[('book', 81), ('read', 25), ('sam', 25), ('great', 19), ('time', 18), ('come', 17), ('good', 17), ('like', 16), ('reader', 15), ('guralnick', 14)]\n",
            "[('book', 1678), ('read', 498), ('good', 355), ('story', 331), ('like', 308), ('time', 278), ('life', 273), ('find', 256), ('great', 254), ('work', 224)]\n",
            "[('book', 131), ('good', 31), ('life', 25), ('story', 25), ('write', 24), ('know', 24), ('read', 24), ('time', 24), ('work', 23), ('find', 23)]\n",
            "[('book', 125), ('good', 52), ('read', 40), ('like', 34), ('time', 30), ('find', 28), ('great', 26), ('think', 25), ('novel', 25), ('work', 24)]\n",
            "[('book', 225), ('like', 55), ('read', 54), ('time', 50), ('good', 48), ('find', 45), ('work', 43), ('story', 39), ('life', 34), ('year', 33)]\n",
            "[('book', 215), ('read', 62), ('like', 50), ('good', 47), ('find', 40), ('great', 31), ('time', 31), ('think', 30), ('history', 29), ('reading', 28)]\n",
            "[('book', 141), ('read', 35), ('woman', 32), ('good', 29), ('find', 28), ('work', 25), ('like', 25), ('way', 24), ('love', 22), ('thing', 21)]\n",
            "[('book', 133), ('read', 44), ('good', 27), ('people', 27), ('find', 25), ('great', 24), ('new', 23), ('life', 23), ('story', 22), ('like', 22)]\n"
          ]
        }
      ],
      "source": [
        "K = 10\n",
        "vk_counts = dict()\n",
        "total_counts = Counter()\n",
        "for d in range(D):\n",
        "    for j in range(len(corpus[d]) - 1): # don't consider the first word of each document since this Z has never been updated\n",
        "      topic = Z_dj[d][j]\n",
        "      if not topic in vk_counts:\n",
        "        vk_counts[topic] = Counter()\n",
        "      unique_word_actual_word = corpus[d][j + 1]\n",
        "      vk_counts[topic][unique_word_actual_word] += 1\n",
        "\n",
        "      # Total counts\n",
        "      total_counts[unique_word_actual_word] += 1\n",
        "\n",
        "# Print topics by absolute counts\n",
        "vk_most_common10 = K*[[]]\n",
        "for k in range(K):\n",
        "  vk_most_common10[k] = vk_counts[k].most_common(10)\n",
        "  print(vk_most_common10[k])"
      ]
    },
    {
      "cell_type": "markdown",
      "metadata": {
        "id": "JK8TPpLe5KLc"
      },
      "source": [
        "### Topics for $K=10$ using relative frequency"
      ]
    },
    {
      "cell_type": "code",
      "execution_count": 58,
      "metadata": {
        "colab": {
          "base_uri": "https://localhost:8080/"
        },
        "id": "07PyWYvITulw",
        "outputId": "e3eeb26e-0583-425e-95f4-3ff1f09e1f11"
      },
      "outputs": [
        {
          "name": "stdout",
          "output_type": "stream",
          "text": [
            "['tree', 'risk', 'smith', 'organization', 'hurt', 'pattern', 'avoid', 'evolution', 'pain', 'johnson']\n",
            "['highet', 'argument', 'expert', 'necessary', 'accept', 'document', 'require', 'ms', 'support', 'universe']\n",
            "['sam', 'biography', 'china', 'team', 'mistake', 'software', 'official', 'position', 'commentary', 'flaw']\n",
            "['prospero', 'vietnam', 'erica', 'rare', 'meal', 'low', 'boat', 'mother', 'beginner', 'share']\n",
            "['norris', 'presentation', 'u.s', 'stage', 'essay', 'wilson', 'increase', 'gibbon', 'argue', 'medium']\n",
            "['machine', 'army', 'soviet', 'intelligence', 'computer', 'energy', 'german', 'contemporary', 'potential', 'brain']\n",
            "['fourier', 'transform', 'discrete', 'signal', 'horse', '[', 'soul', 'system', 'un', 'french']\n",
            "['snow', 'plant', 'meaning', 'popular', 'straight', 'security', 'part', 'translation', 'editor', 'choice']\n",
            "['song', 'oil', 'americans', 'fresh', 'program', 'journalist', 'de', 'cold', 'stupid', 'service']\n",
            "['jenna', 'global', 'car', 'train', 'recipe', 'natural', 'huge', 'religious', 'moment', 'drive']\n"
          ]
        }
      ],
      "source": [
        "# Rename to enable use of old code\n",
        "word_counters = vk_counts\n",
        "total_word_counter = total_counts\n",
        "\n",
        "new_word_counters = []\n",
        "most_common_counter = total_counts.most_common(1000)\n",
        "for k in range(K):\n",
        "  most_common_words = [item[0] for item in most_common_counter]\n",
        "  new_word_counters.append(Counter({word: word_counters[k][word] for word in most_common_words}))\n",
        "\n",
        "word_counters = new_word_counters\n",
        "for k in range(K):\n",
        "  word_counter = word_counters[k]\n",
        "  for w, word_and_count in enumerate(word_counter.most_common()):\n",
        "    word = word_and_count[0]\n",
        "    word_counter[word] = word_counter[word] / total_word_counter[word]\n",
        "\n",
        "for k in range(K):\n",
        "  #print(\"---------- k =\", k, \"----------\")\n",
        "  print([item[0] for item in word_counters[k].most_common(10)])"
      ]
    },
    {
      "cell_type": "markdown",
      "metadata": {
        "id": "x6wZx9766JU8"
      },
      "source": [
        "### Discussion\n",
        "We tried $\\alpha=\\beta=0.1$ and $\\alpha=\\beta=0.01$. The latter showed superior results for the collapsed Gibbs sampling. We also found that $K=50$ worked better than $K=10$ for unigram LDA. No combination of parameters made standard Gibbs samppling successful which is strange. Initializing the document-topic and topic-word distributions to the uniform distribution did not help either.\n",
        "\n",
        "Contrary to the unigram case, fewer topics worked better for bigram LDA."
      ]
    }
  ],
  "metadata": {
    "colab": {
      "collapsed_sections": [
        "OlB-M_eh-Kut",
        "_gXkRiTmdOQE",
        "WFxBiTX50OxI",
        "I1TdCeAP0c7S",
        "y0yNQuKVtZFH",
        "fFTCEAH9u-MJ",
        "tAxT3MGn5GWN"
      ],
      "name": "noa2.ipynb",
      "provenance": []
    },
    "kernelspec": {
      "display_name": "Python 3",
      "name": "python3"
    },
    "widgets": {
      "application/vnd.jupyter.widget-state+json": {
        "022625f56ce1401681f9b001c8901409": {
          "model_module": "@jupyter-widgets/controls",
          "model_name": "DescriptionStyleModel",
          "state": {
            "_model_module": "@jupyter-widgets/controls",
            "_model_module_version": "1.5.0",
            "_model_name": "DescriptionStyleModel",
            "_view_count": null,
            "_view_module": "@jupyter-widgets/base",
            "_view_module_version": "1.2.0",
            "_view_name": "StyleView",
            "description_width": ""
          }
        },
        "056dcebef09d473881b0b9153ae62803": {
          "model_module": "@jupyter-widgets/controls",
          "model_name": "HTMLModel",
          "state": {
            "_dom_classes": [],
            "_model_module": "@jupyter-widgets/controls",
            "_model_module_version": "1.5.0",
            "_model_name": "HTMLModel",
            "_view_count": null,
            "_view_module": "@jupyter-widgets/controls",
            "_view_module_version": "1.5.0",
            "_view_name": "HTMLView",
            "description": "",
            "description_tooltip": null,
            "layout": "IPY_MODEL_5eadc667e301433491ec6da2bbbd6dff",
            "placeholder": "​",
            "style": "IPY_MODEL_70eedc69e6f24b0492486d381f95d58a",
            "value": " 1400/1400 [31:15&lt;00:00,  1.34s/it]"
          }
        },
        "09ce5611745247f899c53214ad506c5c": {
          "model_module": "@jupyter-widgets/base",
          "model_name": "LayoutModel",
          "state": {
            "_model_module": "@jupyter-widgets/base",
            "_model_module_version": "1.2.0",
            "_model_name": "LayoutModel",
            "_view_count": null,
            "_view_module": "@jupyter-widgets/base",
            "_view_module_version": "1.2.0",
            "_view_name": "LayoutView",
            "align_content": null,
            "align_items": null,
            "align_self": null,
            "border": null,
            "bottom": null,
            "display": null,
            "flex": null,
            "flex_flow": null,
            "grid_area": null,
            "grid_auto_columns": null,
            "grid_auto_flow": null,
            "grid_auto_rows": null,
            "grid_column": null,
            "grid_gap": null,
            "grid_row": null,
            "grid_template_areas": null,
            "grid_template_columns": null,
            "grid_template_rows": null,
            "height": null,
            "justify_content": null,
            "justify_items": null,
            "left": null,
            "margin": null,
            "max_height": null,
            "max_width": null,
            "min_height": null,
            "min_width": null,
            "object_fit": null,
            "object_position": null,
            "order": null,
            "overflow": null,
            "overflow_x": null,
            "overflow_y": null,
            "padding": null,
            "right": null,
            "top": null,
            "visibility": null,
            "width": null
          }
        },
        "0dfc270a82844a5792d2b3f44ab18012": {
          "model_module": "@jupyter-widgets/controls",
          "model_name": "FloatProgressModel",
          "state": {
            "_dom_classes": [],
            "_model_module": "@jupyter-widgets/controls",
            "_model_module_version": "1.5.0",
            "_model_name": "FloatProgressModel",
            "_view_count": null,
            "_view_module": "@jupyter-widgets/controls",
            "_view_module_version": "1.5.0",
            "_view_name": "ProgressView",
            "bar_style": "success",
            "description": "100%",
            "description_tooltip": null,
            "layout": "IPY_MODEL_379e2165db7d41348298242fb0fd998b",
            "max": 1400,
            "min": 0,
            "orientation": "horizontal",
            "style": "IPY_MODEL_728c646e8530432bad63cc300307ce7c",
            "value": 1400
          }
        },
        "130f68eec4c44e05a76dd87c9502b1c0": {
          "model_module": "@jupyter-widgets/base",
          "model_name": "LayoutModel",
          "state": {
            "_model_module": "@jupyter-widgets/base",
            "_model_module_version": "1.2.0",
            "_model_name": "LayoutModel",
            "_view_count": null,
            "_view_module": "@jupyter-widgets/base",
            "_view_module_version": "1.2.0",
            "_view_name": "LayoutView",
            "align_content": null,
            "align_items": null,
            "align_self": null,
            "border": null,
            "bottom": null,
            "display": null,
            "flex": null,
            "flex_flow": null,
            "grid_area": null,
            "grid_auto_columns": null,
            "grid_auto_flow": null,
            "grid_auto_rows": null,
            "grid_column": null,
            "grid_gap": null,
            "grid_row": null,
            "grid_template_areas": null,
            "grid_template_columns": null,
            "grid_template_rows": null,
            "height": null,
            "justify_content": null,
            "justify_items": null,
            "left": null,
            "margin": null,
            "max_height": null,
            "max_width": null,
            "min_height": null,
            "min_width": null,
            "object_fit": null,
            "object_position": null,
            "order": null,
            "overflow": null,
            "overflow_x": null,
            "overflow_y": null,
            "padding": null,
            "right": null,
            "top": null,
            "visibility": null,
            "width": null
          }
        },
        "18029be1b50643449a4f59ee20f414db": {
          "model_module": "@jupyter-widgets/base",
          "model_name": "LayoutModel",
          "state": {
            "_model_module": "@jupyter-widgets/base",
            "_model_module_version": "1.2.0",
            "_model_name": "LayoutModel",
            "_view_count": null,
            "_view_module": "@jupyter-widgets/base",
            "_view_module_version": "1.2.0",
            "_view_name": "LayoutView",
            "align_content": null,
            "align_items": null,
            "align_self": null,
            "border": null,
            "bottom": null,
            "display": null,
            "flex": null,
            "flex_flow": null,
            "grid_area": null,
            "grid_auto_columns": null,
            "grid_auto_flow": null,
            "grid_auto_rows": null,
            "grid_column": null,
            "grid_gap": null,
            "grid_row": null,
            "grid_template_areas": null,
            "grid_template_columns": null,
            "grid_template_rows": null,
            "height": null,
            "justify_content": null,
            "justify_items": null,
            "left": null,
            "margin": null,
            "max_height": null,
            "max_width": null,
            "min_height": null,
            "min_width": null,
            "object_fit": null,
            "object_position": null,
            "order": null,
            "overflow": null,
            "overflow_x": null,
            "overflow_y": null,
            "padding": null,
            "right": null,
            "top": null,
            "visibility": null,
            "width": null
          }
        },
        "2b84e2c6d05e4332b544a4fc5107a359": {
          "model_module": "@jupyter-widgets/controls",
          "model_name": "FloatProgressModel",
          "state": {
            "_dom_classes": [],
            "_model_module": "@jupyter-widgets/controls",
            "_model_module_version": "1.5.0",
            "_model_name": "FloatProgressModel",
            "_view_count": null,
            "_view_module": "@jupyter-widgets/controls",
            "_view_module_version": "1.5.0",
            "_view_name": "ProgressView",
            "bar_style": "success",
            "description": "100%",
            "description_tooltip": null,
            "layout": "IPY_MODEL_69c78956851f40b39f301817e3a9fe2f",
            "max": 1400,
            "min": 0,
            "orientation": "horizontal",
            "style": "IPY_MODEL_fb3436618f424416bfc553a1c365216e",
            "value": 1400
          }
        },
        "2d6982d822164a4eb0b24877bebdf30a": {
          "model_module": "@jupyter-widgets/base",
          "model_name": "LayoutModel",
          "state": {
            "_model_module": "@jupyter-widgets/base",
            "_model_module_version": "1.2.0",
            "_model_name": "LayoutModel",
            "_view_count": null,
            "_view_module": "@jupyter-widgets/base",
            "_view_module_version": "1.2.0",
            "_view_name": "LayoutView",
            "align_content": null,
            "align_items": null,
            "align_self": null,
            "border": null,
            "bottom": null,
            "display": null,
            "flex": null,
            "flex_flow": null,
            "grid_area": null,
            "grid_auto_columns": null,
            "grid_auto_flow": null,
            "grid_auto_rows": null,
            "grid_column": null,
            "grid_gap": null,
            "grid_row": null,
            "grid_template_areas": null,
            "grid_template_columns": null,
            "grid_template_rows": null,
            "height": null,
            "justify_content": null,
            "justify_items": null,
            "left": null,
            "margin": null,
            "max_height": null,
            "max_width": null,
            "min_height": null,
            "min_width": null,
            "object_fit": null,
            "object_position": null,
            "order": null,
            "overflow": null,
            "overflow_x": null,
            "overflow_y": null,
            "padding": null,
            "right": null,
            "top": null,
            "visibility": null,
            "width": null
          }
        },
        "346ec33dbaed4c439426b183cb4d79f9": {
          "model_module": "@jupyter-widgets/controls",
          "model_name": "ProgressStyleModel",
          "state": {
            "_model_module": "@jupyter-widgets/controls",
            "_model_module_version": "1.5.0",
            "_model_name": "ProgressStyleModel",
            "_view_count": null,
            "_view_module": "@jupyter-widgets/base",
            "_view_module_version": "1.2.0",
            "_view_name": "StyleView",
            "bar_color": null,
            "description_width": "initial"
          }
        },
        "36e4bc61db554a22b745e8b1481e994e": {
          "model_module": "@jupyter-widgets/controls",
          "model_name": "DescriptionStyleModel",
          "state": {
            "_model_module": "@jupyter-widgets/controls",
            "_model_module_version": "1.5.0",
            "_model_name": "DescriptionStyleModel",
            "_view_count": null,
            "_view_module": "@jupyter-widgets/base",
            "_view_module_version": "1.2.0",
            "_view_name": "StyleView",
            "description_width": ""
          }
        },
        "3708aca38fa6407b8e3ada1a28a75277": {
          "model_module": "@jupyter-widgets/controls",
          "model_name": "HBoxModel",
          "state": {
            "_dom_classes": [],
            "_model_module": "@jupyter-widgets/controls",
            "_model_module_version": "1.5.0",
            "_model_name": "HBoxModel",
            "_view_count": null,
            "_view_module": "@jupyter-widgets/controls",
            "_view_module_version": "1.5.0",
            "_view_name": "HBoxView",
            "box_style": "",
            "children": [
              "IPY_MODEL_7954d594e090448d931c4c8233956fc5",
              "IPY_MODEL_9d23c191ca8e4f3dafd3f3c973fe0ae1"
            ],
            "layout": "IPY_MODEL_bd14ea8ca2ae4bf490f254d86f873aa3"
          }
        },
        "379e2165db7d41348298242fb0fd998b": {
          "model_module": "@jupyter-widgets/base",
          "model_name": "LayoutModel",
          "state": {
            "_model_module": "@jupyter-widgets/base",
            "_model_module_version": "1.2.0",
            "_model_name": "LayoutModel",
            "_view_count": null,
            "_view_module": "@jupyter-widgets/base",
            "_view_module_version": "1.2.0",
            "_view_name": "LayoutView",
            "align_content": null,
            "align_items": null,
            "align_self": null,
            "border": null,
            "bottom": null,
            "display": null,
            "flex": null,
            "flex_flow": null,
            "grid_area": null,
            "grid_auto_columns": null,
            "grid_auto_flow": null,
            "grid_auto_rows": null,
            "grid_column": null,
            "grid_gap": null,
            "grid_row": null,
            "grid_template_areas": null,
            "grid_template_columns": null,
            "grid_template_rows": null,
            "height": null,
            "justify_content": null,
            "justify_items": null,
            "left": null,
            "margin": null,
            "max_height": null,
            "max_width": null,
            "min_height": null,
            "min_width": null,
            "object_fit": null,
            "object_position": null,
            "order": null,
            "overflow": null,
            "overflow_x": null,
            "overflow_y": null,
            "padding": null,
            "right": null,
            "top": null,
            "visibility": null,
            "width": null
          }
        },
        "38795cbf41ab4406b75f8113c87196b8": {
          "model_module": "@jupyter-widgets/controls",
          "model_name": "ProgressStyleModel",
          "state": {
            "_model_module": "@jupyter-widgets/controls",
            "_model_module_version": "1.5.0",
            "_model_name": "ProgressStyleModel",
            "_view_count": null,
            "_view_module": "@jupyter-widgets/base",
            "_view_module_version": "1.2.0",
            "_view_name": "StyleView",
            "bar_color": null,
            "description_width": "initial"
          }
        },
        "3a3ce9adfd8a43bd896f3bd7f0f20749": {
          "model_module": "@jupyter-widgets/base",
          "model_name": "LayoutModel",
          "state": {
            "_model_module": "@jupyter-widgets/base",
            "_model_module_version": "1.2.0",
            "_model_name": "LayoutModel",
            "_view_count": null,
            "_view_module": "@jupyter-widgets/base",
            "_view_module_version": "1.2.0",
            "_view_name": "LayoutView",
            "align_content": null,
            "align_items": null,
            "align_self": null,
            "border": null,
            "bottom": null,
            "display": null,
            "flex": null,
            "flex_flow": null,
            "grid_area": null,
            "grid_auto_columns": null,
            "grid_auto_flow": null,
            "grid_auto_rows": null,
            "grid_column": null,
            "grid_gap": null,
            "grid_row": null,
            "grid_template_areas": null,
            "grid_template_columns": null,
            "grid_template_rows": null,
            "height": null,
            "justify_content": null,
            "justify_items": null,
            "left": null,
            "margin": null,
            "max_height": null,
            "max_width": null,
            "min_height": null,
            "min_width": null,
            "object_fit": null,
            "object_position": null,
            "order": null,
            "overflow": null,
            "overflow_x": null,
            "overflow_y": null,
            "padding": null,
            "right": null,
            "top": null,
            "visibility": null,
            "width": null
          }
        },
        "3b72c8e6bac44ed48bd7d0d640f1f5ae": {
          "model_module": "@jupyter-widgets/controls",
          "model_name": "HBoxModel",
          "state": {
            "_dom_classes": [],
            "_model_module": "@jupyter-widgets/controls",
            "_model_module_version": "1.5.0",
            "_model_name": "HBoxModel",
            "_view_count": null,
            "_view_module": "@jupyter-widgets/controls",
            "_view_module_version": "1.5.0",
            "_view_name": "HBoxView",
            "box_style": "",
            "children": [
              "IPY_MODEL_0dfc270a82844a5792d2b3f44ab18012",
              "IPY_MODEL_dbd0d1bcd58440aaab9e83ec3d12a12d"
            ],
            "layout": "IPY_MODEL_f6874936426e4b8f808e4658534eb269"
          }
        },
        "3d93e01285724a4e8e6d30915a983d5d": {
          "model_module": "@jupyter-widgets/controls",
          "model_name": "HTMLModel",
          "state": {
            "_dom_classes": [],
            "_model_module": "@jupyter-widgets/controls",
            "_model_module_version": "1.5.0",
            "_model_name": "HTMLModel",
            "_view_count": null,
            "_view_module": "@jupyter-widgets/controls",
            "_view_module_version": "1.5.0",
            "_view_name": "HTMLView",
            "description": "",
            "description_tooltip": null,
            "layout": "IPY_MODEL_d41cc41c52464384aea16d03366a94bc",
            "placeholder": "​",
            "style": "IPY_MODEL_36e4bc61db554a22b745e8b1481e994e",
            "value": " 200/200 [3:57:42&lt;00:00, 71.31s/it]"
          }
        },
        "4580c84a1eb14d25b37f210ca3b00d86": {
          "model_module": "@jupyter-widgets/base",
          "model_name": "LayoutModel",
          "state": {
            "_model_module": "@jupyter-widgets/base",
            "_model_module_version": "1.2.0",
            "_model_name": "LayoutModel",
            "_view_count": null,
            "_view_module": "@jupyter-widgets/base",
            "_view_module_version": "1.2.0",
            "_view_name": "LayoutView",
            "align_content": null,
            "align_items": null,
            "align_self": null,
            "border": null,
            "bottom": null,
            "display": null,
            "flex": null,
            "flex_flow": null,
            "grid_area": null,
            "grid_auto_columns": null,
            "grid_auto_flow": null,
            "grid_auto_rows": null,
            "grid_column": null,
            "grid_gap": null,
            "grid_row": null,
            "grid_template_areas": null,
            "grid_template_columns": null,
            "grid_template_rows": null,
            "height": null,
            "justify_content": null,
            "justify_items": null,
            "left": null,
            "margin": null,
            "max_height": null,
            "max_width": null,
            "min_height": null,
            "min_width": null,
            "object_fit": null,
            "object_position": null,
            "order": null,
            "overflow": null,
            "overflow_x": null,
            "overflow_y": null,
            "padding": null,
            "right": null,
            "top": null,
            "visibility": null,
            "width": null
          }
        },
        "4689d57f0a0e4d91b73352535ae50c97": {
          "model_module": "@jupyter-widgets/controls",
          "model_name": "DescriptionStyleModel",
          "state": {
            "_model_module": "@jupyter-widgets/controls",
            "_model_module_version": "1.5.0",
            "_model_name": "DescriptionStyleModel",
            "_view_count": null,
            "_view_module": "@jupyter-widgets/base",
            "_view_module_version": "1.2.0",
            "_view_name": "StyleView",
            "description_width": ""
          }
        },
        "4cb96845b8554166892ac35da6196cb7": {
          "model_module": "@jupyter-widgets/base",
          "model_name": "LayoutModel",
          "state": {
            "_model_module": "@jupyter-widgets/base",
            "_model_module_version": "1.2.0",
            "_model_name": "LayoutModel",
            "_view_count": null,
            "_view_module": "@jupyter-widgets/base",
            "_view_module_version": "1.2.0",
            "_view_name": "LayoutView",
            "align_content": null,
            "align_items": null,
            "align_self": null,
            "border": null,
            "bottom": null,
            "display": null,
            "flex": null,
            "flex_flow": null,
            "grid_area": null,
            "grid_auto_columns": null,
            "grid_auto_flow": null,
            "grid_auto_rows": null,
            "grid_column": null,
            "grid_gap": null,
            "grid_row": null,
            "grid_template_areas": null,
            "grid_template_columns": null,
            "grid_template_rows": null,
            "height": null,
            "justify_content": null,
            "justify_items": null,
            "left": null,
            "margin": null,
            "max_height": null,
            "max_width": null,
            "min_height": null,
            "min_width": null,
            "object_fit": null,
            "object_position": null,
            "order": null,
            "overflow": null,
            "overflow_x": null,
            "overflow_y": null,
            "padding": null,
            "right": null,
            "top": null,
            "visibility": null,
            "width": null
          }
        },
        "510ad2a58f6b497f84e78a025e4c8d13": {
          "model_module": "@jupyter-widgets/controls",
          "model_name": "HTMLModel",
          "state": {
            "_dom_classes": [],
            "_model_module": "@jupyter-widgets/controls",
            "_model_module_version": "1.5.0",
            "_model_name": "HTMLModel",
            "_view_count": null,
            "_view_module": "@jupyter-widgets/controls",
            "_view_module_version": "1.5.0",
            "_view_name": "HTMLView",
            "description": "",
            "description_tooltip": null,
            "layout": "IPY_MODEL_98a3ce0a16f44164ab6141c4a4c8765d",
            "placeholder": "​",
            "style": "IPY_MODEL_7de91e74ae5f4377b4f150e19b04c9fa",
            "value": " 200/200 [27:32&lt;00:00,  8.26s/it]"
          }
        },
        "56aaf85b5a03436991db6bb2f64d9250": {
          "model_module": "@jupyter-widgets/controls",
          "model_name": "FloatProgressModel",
          "state": {
            "_dom_classes": [],
            "_model_module": "@jupyter-widgets/controls",
            "_model_module_version": "1.5.0",
            "_model_name": "FloatProgressModel",
            "_view_count": null,
            "_view_module": "@jupyter-widgets/controls",
            "_view_module_version": "1.5.0",
            "_view_name": "ProgressView",
            "bar_style": "success",
            "description": "100%",
            "description_tooltip": null,
            "layout": "IPY_MODEL_2d6982d822164a4eb0b24877bebdf30a",
            "max": 200,
            "min": 0,
            "orientation": "horizontal",
            "style": "IPY_MODEL_38795cbf41ab4406b75f8113c87196b8",
            "value": 200
          }
        },
        "5acbf8eea98e47a58d6463d552eeab9f": {
          "model_module": "@jupyter-widgets/base",
          "model_name": "LayoutModel",
          "state": {
            "_model_module": "@jupyter-widgets/base",
            "_model_module_version": "1.2.0",
            "_model_name": "LayoutModel",
            "_view_count": null,
            "_view_module": "@jupyter-widgets/base",
            "_view_module_version": "1.2.0",
            "_view_name": "LayoutView",
            "align_content": null,
            "align_items": null,
            "align_self": null,
            "border": null,
            "bottom": null,
            "display": null,
            "flex": null,
            "flex_flow": null,
            "grid_area": null,
            "grid_auto_columns": null,
            "grid_auto_flow": null,
            "grid_auto_rows": null,
            "grid_column": null,
            "grid_gap": null,
            "grid_row": null,
            "grid_template_areas": null,
            "grid_template_columns": null,
            "grid_template_rows": null,
            "height": null,
            "justify_content": null,
            "justify_items": null,
            "left": null,
            "margin": null,
            "max_height": null,
            "max_width": null,
            "min_height": null,
            "min_width": null,
            "object_fit": null,
            "object_position": null,
            "order": null,
            "overflow": null,
            "overflow_x": null,
            "overflow_y": null,
            "padding": null,
            "right": null,
            "top": null,
            "visibility": null,
            "width": null
          }
        },
        "5eadc667e301433491ec6da2bbbd6dff": {
          "model_module": "@jupyter-widgets/base",
          "model_name": "LayoutModel",
          "state": {
            "_model_module": "@jupyter-widgets/base",
            "_model_module_version": "1.2.0",
            "_model_name": "LayoutModel",
            "_view_count": null,
            "_view_module": "@jupyter-widgets/base",
            "_view_module_version": "1.2.0",
            "_view_name": "LayoutView",
            "align_content": null,
            "align_items": null,
            "align_self": null,
            "border": null,
            "bottom": null,
            "display": null,
            "flex": null,
            "flex_flow": null,
            "grid_area": null,
            "grid_auto_columns": null,
            "grid_auto_flow": null,
            "grid_auto_rows": null,
            "grid_column": null,
            "grid_gap": null,
            "grid_row": null,
            "grid_template_areas": null,
            "grid_template_columns": null,
            "grid_template_rows": null,
            "height": null,
            "justify_content": null,
            "justify_items": null,
            "left": null,
            "margin": null,
            "max_height": null,
            "max_width": null,
            "min_height": null,
            "min_width": null,
            "object_fit": null,
            "object_position": null,
            "order": null,
            "overflow": null,
            "overflow_x": null,
            "overflow_y": null,
            "padding": null,
            "right": null,
            "top": null,
            "visibility": null,
            "width": null
          }
        },
        "68789c8faed9470084d8a240143706e9": {
          "model_module": "@jupyter-widgets/controls",
          "model_name": "HBoxModel",
          "state": {
            "_dom_classes": [],
            "_model_module": "@jupyter-widgets/controls",
            "_model_module_version": "1.5.0",
            "_model_name": "HBoxModel",
            "_view_count": null,
            "_view_module": "@jupyter-widgets/controls",
            "_view_module_version": "1.5.0",
            "_view_name": "HBoxView",
            "box_style": "",
            "children": [
              "IPY_MODEL_c5fafc736d53483794df710de79790e5",
              "IPY_MODEL_3d93e01285724a4e8e6d30915a983d5d"
            ],
            "layout": "IPY_MODEL_09ce5611745247f899c53214ad506c5c"
          }
        },
        "68e450d8c4a94aa79ce6d938d3f8549e": {
          "model_module": "@jupyter-widgets/controls",
          "model_name": "DescriptionStyleModel",
          "state": {
            "_model_module": "@jupyter-widgets/controls",
            "_model_module_version": "1.5.0",
            "_model_name": "DescriptionStyleModel",
            "_view_count": null,
            "_view_module": "@jupyter-widgets/base",
            "_view_module_version": "1.2.0",
            "_view_name": "StyleView",
            "description_width": ""
          }
        },
        "69c78956851f40b39f301817e3a9fe2f": {
          "model_module": "@jupyter-widgets/base",
          "model_name": "LayoutModel",
          "state": {
            "_model_module": "@jupyter-widgets/base",
            "_model_module_version": "1.2.0",
            "_model_name": "LayoutModel",
            "_view_count": null,
            "_view_module": "@jupyter-widgets/base",
            "_view_module_version": "1.2.0",
            "_view_name": "LayoutView",
            "align_content": null,
            "align_items": null,
            "align_self": null,
            "border": null,
            "bottom": null,
            "display": null,
            "flex": null,
            "flex_flow": null,
            "grid_area": null,
            "grid_auto_columns": null,
            "grid_auto_flow": null,
            "grid_auto_rows": null,
            "grid_column": null,
            "grid_gap": null,
            "grid_row": null,
            "grid_template_areas": null,
            "grid_template_columns": null,
            "grid_template_rows": null,
            "height": null,
            "justify_content": null,
            "justify_items": null,
            "left": null,
            "margin": null,
            "max_height": null,
            "max_width": null,
            "min_height": null,
            "min_width": null,
            "object_fit": null,
            "object_position": null,
            "order": null,
            "overflow": null,
            "overflow_x": null,
            "overflow_y": null,
            "padding": null,
            "right": null,
            "top": null,
            "visibility": null,
            "width": null
          }
        },
        "6b30c631869c404c8a5e7020f6d1b32f": {
          "model_module": "@jupyter-widgets/base",
          "model_name": "LayoutModel",
          "state": {
            "_model_module": "@jupyter-widgets/base",
            "_model_module_version": "1.2.0",
            "_model_name": "LayoutModel",
            "_view_count": null,
            "_view_module": "@jupyter-widgets/base",
            "_view_module_version": "1.2.0",
            "_view_name": "LayoutView",
            "align_content": null,
            "align_items": null,
            "align_self": null,
            "border": null,
            "bottom": null,
            "display": null,
            "flex": null,
            "flex_flow": null,
            "grid_area": null,
            "grid_auto_columns": null,
            "grid_auto_flow": null,
            "grid_auto_rows": null,
            "grid_column": null,
            "grid_gap": null,
            "grid_row": null,
            "grid_template_areas": null,
            "grid_template_columns": null,
            "grid_template_rows": null,
            "height": null,
            "justify_content": null,
            "justify_items": null,
            "left": null,
            "margin": null,
            "max_height": null,
            "max_width": null,
            "min_height": null,
            "min_width": null,
            "object_fit": null,
            "object_position": null,
            "order": null,
            "overflow": null,
            "overflow_x": null,
            "overflow_y": null,
            "padding": null,
            "right": null,
            "top": null,
            "visibility": null,
            "width": null
          }
        },
        "6ec331063b72455abfd6cf259c64a282": {
          "model_module": "@jupyter-widgets/base",
          "model_name": "LayoutModel",
          "state": {
            "_model_module": "@jupyter-widgets/base",
            "_model_module_version": "1.2.0",
            "_model_name": "LayoutModel",
            "_view_count": null,
            "_view_module": "@jupyter-widgets/base",
            "_view_module_version": "1.2.0",
            "_view_name": "LayoutView",
            "align_content": null,
            "align_items": null,
            "align_self": null,
            "border": null,
            "bottom": null,
            "display": null,
            "flex": null,
            "flex_flow": null,
            "grid_area": null,
            "grid_auto_columns": null,
            "grid_auto_flow": null,
            "grid_auto_rows": null,
            "grid_column": null,
            "grid_gap": null,
            "grid_row": null,
            "grid_template_areas": null,
            "grid_template_columns": null,
            "grid_template_rows": null,
            "height": null,
            "justify_content": null,
            "justify_items": null,
            "left": null,
            "margin": null,
            "max_height": null,
            "max_width": null,
            "min_height": null,
            "min_width": null,
            "object_fit": null,
            "object_position": null,
            "order": null,
            "overflow": null,
            "overflow_x": null,
            "overflow_y": null,
            "padding": null,
            "right": null,
            "top": null,
            "visibility": null,
            "width": null
          }
        },
        "70eedc69e6f24b0492486d381f95d58a": {
          "model_module": "@jupyter-widgets/controls",
          "model_name": "DescriptionStyleModel",
          "state": {
            "_model_module": "@jupyter-widgets/controls",
            "_model_module_version": "1.5.0",
            "_model_name": "DescriptionStyleModel",
            "_view_count": null,
            "_view_module": "@jupyter-widgets/base",
            "_view_module_version": "1.2.0",
            "_view_name": "StyleView",
            "description_width": ""
          }
        },
        "728c646e8530432bad63cc300307ce7c": {
          "model_module": "@jupyter-widgets/controls",
          "model_name": "ProgressStyleModel",
          "state": {
            "_model_module": "@jupyter-widgets/controls",
            "_model_module_version": "1.5.0",
            "_model_name": "ProgressStyleModel",
            "_view_count": null,
            "_view_module": "@jupyter-widgets/base",
            "_view_module_version": "1.2.0",
            "_view_name": "StyleView",
            "bar_color": null,
            "description_width": "initial"
          }
        },
        "7954d594e090448d931c4c8233956fc5": {
          "model_module": "@jupyter-widgets/controls",
          "model_name": "FloatProgressModel",
          "state": {
            "_dom_classes": [],
            "_model_module": "@jupyter-widgets/controls",
            "_model_module_version": "1.5.0",
            "_model_name": "FloatProgressModel",
            "_view_count": null,
            "_view_module": "@jupyter-widgets/controls",
            "_view_module_version": "1.5.0",
            "_view_name": "ProgressView",
            "bar_style": "success",
            "description": "100%",
            "description_tooltip": null,
            "layout": "IPY_MODEL_6ec331063b72455abfd6cf259c64a282",
            "max": 1400,
            "min": 0,
            "orientation": "horizontal",
            "style": "IPY_MODEL_bf81e035bf74466abcb5b2a3aabdea17",
            "value": 1400
          }
        },
        "7c4b13ac179d4e9abd01371723ae69e5": {
          "model_module": "@jupyter-widgets/controls",
          "model_name": "HBoxModel",
          "state": {
            "_dom_classes": [],
            "_model_module": "@jupyter-widgets/controls",
            "_model_module_version": "1.5.0",
            "_model_name": "HBoxModel",
            "_view_count": null,
            "_view_module": "@jupyter-widgets/controls",
            "_view_module_version": "1.5.0",
            "_view_name": "HBoxView",
            "box_style": "",
            "children": [
              "IPY_MODEL_56aaf85b5a03436991db6bb2f64d9250",
              "IPY_MODEL_510ad2a58f6b497f84e78a025e4c8d13"
            ],
            "layout": "IPY_MODEL_18029be1b50643449a4f59ee20f414db"
          }
        },
        "7de91e74ae5f4377b4f150e19b04c9fa": {
          "model_module": "@jupyter-widgets/controls",
          "model_name": "DescriptionStyleModel",
          "state": {
            "_model_module": "@jupyter-widgets/controls",
            "_model_module_version": "1.5.0",
            "_model_name": "DescriptionStyleModel",
            "_view_count": null,
            "_view_module": "@jupyter-widgets/base",
            "_view_module_version": "1.2.0",
            "_view_name": "StyleView",
            "description_width": ""
          }
        },
        "84ff187f7f7549d186c779e21a58a173": {
          "model_module": "@jupyter-widgets/controls",
          "model_name": "HBoxModel",
          "state": {
            "_dom_classes": [],
            "_model_module": "@jupyter-widgets/controls",
            "_model_module_version": "1.5.0",
            "_model_name": "HBoxModel",
            "_view_count": null,
            "_view_module": "@jupyter-widgets/controls",
            "_view_module_version": "1.5.0",
            "_view_name": "HBoxView",
            "box_style": "",
            "children": [
              "IPY_MODEL_880f08069c594d38981e8e05bc634a27",
              "IPY_MODEL_056dcebef09d473881b0b9153ae62803"
            ],
            "layout": "IPY_MODEL_130f68eec4c44e05a76dd87c9502b1c0"
          }
        },
        "880f08069c594d38981e8e05bc634a27": {
          "model_module": "@jupyter-widgets/controls",
          "model_name": "FloatProgressModel",
          "state": {
            "_dom_classes": [],
            "_model_module": "@jupyter-widgets/controls",
            "_model_module_version": "1.5.0",
            "_model_name": "FloatProgressModel",
            "_view_count": null,
            "_view_module": "@jupyter-widgets/controls",
            "_view_module_version": "1.5.0",
            "_view_name": "ProgressView",
            "bar_style": "success",
            "description": "100%",
            "description_tooltip": null,
            "layout": "IPY_MODEL_6b30c631869c404c8a5e7020f6d1b32f",
            "max": 1400,
            "min": 0,
            "orientation": "horizontal",
            "style": "IPY_MODEL_fe29a31b78704bdb81c8e1b53adfa638",
            "value": 1400
          }
        },
        "8d60df531c9548309ac2b82ed4d7ddaf": {
          "model_module": "@jupyter-widgets/controls",
          "model_name": "HTMLModel",
          "state": {
            "_dom_classes": [],
            "_model_module": "@jupyter-widgets/controls",
            "_model_module_version": "1.5.0",
            "_model_name": "HTMLModel",
            "_view_count": null,
            "_view_module": "@jupyter-widgets/controls",
            "_view_module_version": "1.5.0",
            "_view_name": "HTMLView",
            "description": "",
            "description_tooltip": null,
            "layout": "IPY_MODEL_8e518666fca2474e8de8f356482bbcd9",
            "placeholder": "​",
            "style": "IPY_MODEL_e05b3911c9164028bd923e91f2233fc5",
            "value": " 200/200 [37:26&lt;00:00, 11.23s/it]"
          }
        },
        "8e518666fca2474e8de8f356482bbcd9": {
          "model_module": "@jupyter-widgets/base",
          "model_name": "LayoutModel",
          "state": {
            "_model_module": "@jupyter-widgets/base",
            "_model_module_version": "1.2.0",
            "_model_name": "LayoutModel",
            "_view_count": null,
            "_view_module": "@jupyter-widgets/base",
            "_view_module_version": "1.2.0",
            "_view_name": "LayoutView",
            "align_content": null,
            "align_items": null,
            "align_self": null,
            "border": null,
            "bottom": null,
            "display": null,
            "flex": null,
            "flex_flow": null,
            "grid_area": null,
            "grid_auto_columns": null,
            "grid_auto_flow": null,
            "grid_auto_rows": null,
            "grid_column": null,
            "grid_gap": null,
            "grid_row": null,
            "grid_template_areas": null,
            "grid_template_columns": null,
            "grid_template_rows": null,
            "height": null,
            "justify_content": null,
            "justify_items": null,
            "left": null,
            "margin": null,
            "max_height": null,
            "max_width": null,
            "min_height": null,
            "min_width": null,
            "object_fit": null,
            "object_position": null,
            "order": null,
            "overflow": null,
            "overflow_x": null,
            "overflow_y": null,
            "padding": null,
            "right": null,
            "top": null,
            "visibility": null,
            "width": null
          }
        },
        "98a3ce0a16f44164ab6141c4a4c8765d": {
          "model_module": "@jupyter-widgets/base",
          "model_name": "LayoutModel",
          "state": {
            "_model_module": "@jupyter-widgets/base",
            "_model_module_version": "1.2.0",
            "_model_name": "LayoutModel",
            "_view_count": null,
            "_view_module": "@jupyter-widgets/base",
            "_view_module_version": "1.2.0",
            "_view_name": "LayoutView",
            "align_content": null,
            "align_items": null,
            "align_self": null,
            "border": null,
            "bottom": null,
            "display": null,
            "flex": null,
            "flex_flow": null,
            "grid_area": null,
            "grid_auto_columns": null,
            "grid_auto_flow": null,
            "grid_auto_rows": null,
            "grid_column": null,
            "grid_gap": null,
            "grid_row": null,
            "grid_template_areas": null,
            "grid_template_columns": null,
            "grid_template_rows": null,
            "height": null,
            "justify_content": null,
            "justify_items": null,
            "left": null,
            "margin": null,
            "max_height": null,
            "max_width": null,
            "min_height": null,
            "min_width": null,
            "object_fit": null,
            "object_position": null,
            "order": null,
            "overflow": null,
            "overflow_x": null,
            "overflow_y": null,
            "padding": null,
            "right": null,
            "top": null,
            "visibility": null,
            "width": null
          }
        },
        "9d10fa61b90d481d881b490c4eb9286d": {
          "model_module": "@jupyter-widgets/base",
          "model_name": "LayoutModel",
          "state": {
            "_model_module": "@jupyter-widgets/base",
            "_model_module_version": "1.2.0",
            "_model_name": "LayoutModel",
            "_view_count": null,
            "_view_module": "@jupyter-widgets/base",
            "_view_module_version": "1.2.0",
            "_view_name": "LayoutView",
            "align_content": null,
            "align_items": null,
            "align_self": null,
            "border": null,
            "bottom": null,
            "display": null,
            "flex": null,
            "flex_flow": null,
            "grid_area": null,
            "grid_auto_columns": null,
            "grid_auto_flow": null,
            "grid_auto_rows": null,
            "grid_column": null,
            "grid_gap": null,
            "grid_row": null,
            "grid_template_areas": null,
            "grid_template_columns": null,
            "grid_template_rows": null,
            "height": null,
            "justify_content": null,
            "justify_items": null,
            "left": null,
            "margin": null,
            "max_height": null,
            "max_width": null,
            "min_height": null,
            "min_width": null,
            "object_fit": null,
            "object_position": null,
            "order": null,
            "overflow": null,
            "overflow_x": null,
            "overflow_y": null,
            "padding": null,
            "right": null,
            "top": null,
            "visibility": null,
            "width": null
          }
        },
        "9d23c191ca8e4f3dafd3f3c973fe0ae1": {
          "model_module": "@jupyter-widgets/controls",
          "model_name": "HTMLModel",
          "state": {
            "_dom_classes": [],
            "_model_module": "@jupyter-widgets/controls",
            "_model_module_version": "1.5.0",
            "_model_name": "HTMLModel",
            "_view_count": null,
            "_view_module": "@jupyter-widgets/controls",
            "_view_module_version": "1.5.0",
            "_view_name": "HTMLView",
            "description": "",
            "description_tooltip": null,
            "layout": "IPY_MODEL_9d10fa61b90d481d881b490c4eb9286d",
            "placeholder": "​",
            "style": "IPY_MODEL_022625f56ce1401681f9b001c8901409",
            "value": " 1400/1400 [42:06&lt;00:00,  1.80s/it]"
          }
        },
        "9e50909033bc4cedbd72522028932fee": {
          "model_module": "@jupyter-widgets/controls",
          "model_name": "FloatProgressModel",
          "state": {
            "_dom_classes": [],
            "_model_module": "@jupyter-widgets/controls",
            "_model_module_version": "1.5.0",
            "_model_name": "FloatProgressModel",
            "_view_count": null,
            "_view_module": "@jupyter-widgets/controls",
            "_view_module_version": "1.5.0",
            "_view_name": "ProgressView",
            "bar_style": "success",
            "description": "100%",
            "description_tooltip": null,
            "layout": "IPY_MODEL_4cb96845b8554166892ac35da6196cb7",
            "max": 200,
            "min": 0,
            "orientation": "horizontal",
            "style": "IPY_MODEL_c4a5972f60f7402f94965297a7bdcf02",
            "value": 200
          }
        },
        "af32348594fc4bf89e092b962d22d94d": {
          "model_module": "@jupyter-widgets/controls",
          "model_name": "HBoxModel",
          "state": {
            "_dom_classes": [],
            "_model_module": "@jupyter-widgets/controls",
            "_model_module_version": "1.5.0",
            "_model_name": "HBoxModel",
            "_view_count": null,
            "_view_module": "@jupyter-widgets/controls",
            "_view_module_version": "1.5.0",
            "_view_name": "HBoxView",
            "box_style": "",
            "children": [
              "IPY_MODEL_9e50909033bc4cedbd72522028932fee",
              "IPY_MODEL_ce68e829d11a4eb79a90849dcfe68b7c"
            ],
            "layout": "IPY_MODEL_dd32f7f4041f4ca9b7de39abbf668168"
          }
        },
        "af92c777aff94d5b84230cccf739a89f": {
          "model_module": "@jupyter-widgets/controls",
          "model_name": "HBoxModel",
          "state": {
            "_dom_classes": [],
            "_model_module": "@jupyter-widgets/controls",
            "_model_module_version": "1.5.0",
            "_model_name": "HBoxModel",
            "_view_count": null,
            "_view_module": "@jupyter-widgets/controls",
            "_view_module_version": "1.5.0",
            "_view_name": "HBoxView",
            "box_style": "",
            "children": [
              "IPY_MODEL_df60ecbf90f1442a90f88d78eba82acd",
              "IPY_MODEL_8d60df531c9548309ac2b82ed4d7ddaf"
            ],
            "layout": "IPY_MODEL_d485b602d5704a6c874cfb9fd7900121"
          }
        },
        "b64456626c0f480785e687b75b55167f": {
          "model_module": "@jupyter-widgets/base",
          "model_name": "LayoutModel",
          "state": {
            "_model_module": "@jupyter-widgets/base",
            "_model_module_version": "1.2.0",
            "_model_name": "LayoutModel",
            "_view_count": null,
            "_view_module": "@jupyter-widgets/base",
            "_view_module_version": "1.2.0",
            "_view_name": "LayoutView",
            "align_content": null,
            "align_items": null,
            "align_self": null,
            "border": null,
            "bottom": null,
            "display": null,
            "flex": null,
            "flex_flow": null,
            "grid_area": null,
            "grid_auto_columns": null,
            "grid_auto_flow": null,
            "grid_auto_rows": null,
            "grid_column": null,
            "grid_gap": null,
            "grid_row": null,
            "grid_template_areas": null,
            "grid_template_columns": null,
            "grid_template_rows": null,
            "height": null,
            "justify_content": null,
            "justify_items": null,
            "left": null,
            "margin": null,
            "max_height": null,
            "max_width": null,
            "min_height": null,
            "min_width": null,
            "object_fit": null,
            "object_position": null,
            "order": null,
            "overflow": null,
            "overflow_x": null,
            "overflow_y": null,
            "padding": null,
            "right": null,
            "top": null,
            "visibility": null,
            "width": null
          }
        },
        "bd14ea8ca2ae4bf490f254d86f873aa3": {
          "model_module": "@jupyter-widgets/base",
          "model_name": "LayoutModel",
          "state": {
            "_model_module": "@jupyter-widgets/base",
            "_model_module_version": "1.2.0",
            "_model_name": "LayoutModel",
            "_view_count": null,
            "_view_module": "@jupyter-widgets/base",
            "_view_module_version": "1.2.0",
            "_view_name": "LayoutView",
            "align_content": null,
            "align_items": null,
            "align_self": null,
            "border": null,
            "bottom": null,
            "display": null,
            "flex": null,
            "flex_flow": null,
            "grid_area": null,
            "grid_auto_columns": null,
            "grid_auto_flow": null,
            "grid_auto_rows": null,
            "grid_column": null,
            "grid_gap": null,
            "grid_row": null,
            "grid_template_areas": null,
            "grid_template_columns": null,
            "grid_template_rows": null,
            "height": null,
            "justify_content": null,
            "justify_items": null,
            "left": null,
            "margin": null,
            "max_height": null,
            "max_width": null,
            "min_height": null,
            "min_width": null,
            "object_fit": null,
            "object_position": null,
            "order": null,
            "overflow": null,
            "overflow_x": null,
            "overflow_y": null,
            "padding": null,
            "right": null,
            "top": null,
            "visibility": null,
            "width": null
          }
        },
        "bea98f122b4a472cb60df5a5443a2cba": {
          "model_module": "@jupyter-widgets/base",
          "model_name": "LayoutModel",
          "state": {
            "_model_module": "@jupyter-widgets/base",
            "_model_module_version": "1.2.0",
            "_model_name": "LayoutModel",
            "_view_count": null,
            "_view_module": "@jupyter-widgets/base",
            "_view_module_version": "1.2.0",
            "_view_name": "LayoutView",
            "align_content": null,
            "align_items": null,
            "align_self": null,
            "border": null,
            "bottom": null,
            "display": null,
            "flex": null,
            "flex_flow": null,
            "grid_area": null,
            "grid_auto_columns": null,
            "grid_auto_flow": null,
            "grid_auto_rows": null,
            "grid_column": null,
            "grid_gap": null,
            "grid_row": null,
            "grid_template_areas": null,
            "grid_template_columns": null,
            "grid_template_rows": null,
            "height": null,
            "justify_content": null,
            "justify_items": null,
            "left": null,
            "margin": null,
            "max_height": null,
            "max_width": null,
            "min_height": null,
            "min_width": null,
            "object_fit": null,
            "object_position": null,
            "order": null,
            "overflow": null,
            "overflow_x": null,
            "overflow_y": null,
            "padding": null,
            "right": null,
            "top": null,
            "visibility": null,
            "width": null
          }
        },
        "bf81e035bf74466abcb5b2a3aabdea17": {
          "model_module": "@jupyter-widgets/controls",
          "model_name": "ProgressStyleModel",
          "state": {
            "_model_module": "@jupyter-widgets/controls",
            "_model_module_version": "1.5.0",
            "_model_name": "ProgressStyleModel",
            "_view_count": null,
            "_view_module": "@jupyter-widgets/base",
            "_view_module_version": "1.2.0",
            "_view_name": "StyleView",
            "bar_color": null,
            "description_width": "initial"
          }
        },
        "c4a5972f60f7402f94965297a7bdcf02": {
          "model_module": "@jupyter-widgets/controls",
          "model_name": "ProgressStyleModel",
          "state": {
            "_model_module": "@jupyter-widgets/controls",
            "_model_module_version": "1.5.0",
            "_model_name": "ProgressStyleModel",
            "_view_count": null,
            "_view_module": "@jupyter-widgets/base",
            "_view_module_version": "1.2.0",
            "_view_name": "StyleView",
            "bar_color": null,
            "description_width": "initial"
          }
        },
        "c5fafc736d53483794df710de79790e5": {
          "model_module": "@jupyter-widgets/controls",
          "model_name": "FloatProgressModel",
          "state": {
            "_dom_classes": [],
            "_model_module": "@jupyter-widgets/controls",
            "_model_module_version": "1.5.0",
            "_model_name": "FloatProgressModel",
            "_view_count": null,
            "_view_module": "@jupyter-widgets/controls",
            "_view_module_version": "1.5.0",
            "_view_name": "ProgressView",
            "bar_style": "success",
            "description": "100%",
            "description_tooltip": null,
            "layout": "IPY_MODEL_3a3ce9adfd8a43bd896f3bd7f0f20749",
            "max": 200,
            "min": 0,
            "orientation": "horizontal",
            "style": "IPY_MODEL_f14e958dd1214f488a8c8de587033a9a",
            "value": 200
          }
        },
        "cb1e0deabe7a493c805838a6ce4abffe": {
          "model_module": "@jupyter-widgets/controls",
          "model_name": "HTMLModel",
          "state": {
            "_dom_classes": [],
            "_model_module": "@jupyter-widgets/controls",
            "_model_module_version": "1.5.0",
            "_model_name": "HTMLModel",
            "_view_count": null,
            "_view_module": "@jupyter-widgets/controls",
            "_view_module_version": "1.5.0",
            "_view_name": "HTMLView",
            "description": "",
            "description_tooltip": null,
            "layout": "IPY_MODEL_4580c84a1eb14d25b37f210ca3b00d86",
            "placeholder": "​",
            "style": "IPY_MODEL_4689d57f0a0e4d91b73352535ae50c97",
            "value": " 1400/1400 [00:03&lt;00:00, 403.40it/s]"
          }
        },
        "ce68e829d11a4eb79a90849dcfe68b7c": {
          "model_module": "@jupyter-widgets/controls",
          "model_name": "HTMLModel",
          "state": {
            "_dom_classes": [],
            "_model_module": "@jupyter-widgets/controls",
            "_model_module_version": "1.5.0",
            "_model_name": "HTMLModel",
            "_view_count": null,
            "_view_module": "@jupyter-widgets/controls",
            "_view_module_version": "1.5.0",
            "_view_name": "HTMLView",
            "description": "",
            "description_tooltip": null,
            "layout": "IPY_MODEL_f038d4991a3c4f32b36de94ee5e71956",
            "placeholder": "​",
            "style": "IPY_MODEL_68e450d8c4a94aa79ce6d938d3f8549e",
            "value": " 200/200 [27:51&lt;00:00,  8.36s/it]"
          }
        },
        "d41cc41c52464384aea16d03366a94bc": {
          "model_module": "@jupyter-widgets/base",
          "model_name": "LayoutModel",
          "state": {
            "_model_module": "@jupyter-widgets/base",
            "_model_module_version": "1.2.0",
            "_model_name": "LayoutModel",
            "_view_count": null,
            "_view_module": "@jupyter-widgets/base",
            "_view_module_version": "1.2.0",
            "_view_name": "LayoutView",
            "align_content": null,
            "align_items": null,
            "align_self": null,
            "border": null,
            "bottom": null,
            "display": null,
            "flex": null,
            "flex_flow": null,
            "grid_area": null,
            "grid_auto_columns": null,
            "grid_auto_flow": null,
            "grid_auto_rows": null,
            "grid_column": null,
            "grid_gap": null,
            "grid_row": null,
            "grid_template_areas": null,
            "grid_template_columns": null,
            "grid_template_rows": null,
            "height": null,
            "justify_content": null,
            "justify_items": null,
            "left": null,
            "margin": null,
            "max_height": null,
            "max_width": null,
            "min_height": null,
            "min_width": null,
            "object_fit": null,
            "object_position": null,
            "order": null,
            "overflow": null,
            "overflow_x": null,
            "overflow_y": null,
            "padding": null,
            "right": null,
            "top": null,
            "visibility": null,
            "width": null
          }
        },
        "d485b602d5704a6c874cfb9fd7900121": {
          "model_module": "@jupyter-widgets/base",
          "model_name": "LayoutModel",
          "state": {
            "_model_module": "@jupyter-widgets/base",
            "_model_module_version": "1.2.0",
            "_model_name": "LayoutModel",
            "_view_count": null,
            "_view_module": "@jupyter-widgets/base",
            "_view_module_version": "1.2.0",
            "_view_name": "LayoutView",
            "align_content": null,
            "align_items": null,
            "align_self": null,
            "border": null,
            "bottom": null,
            "display": null,
            "flex": null,
            "flex_flow": null,
            "grid_area": null,
            "grid_auto_columns": null,
            "grid_auto_flow": null,
            "grid_auto_rows": null,
            "grid_column": null,
            "grid_gap": null,
            "grid_row": null,
            "grid_template_areas": null,
            "grid_template_columns": null,
            "grid_template_rows": null,
            "height": null,
            "justify_content": null,
            "justify_items": null,
            "left": null,
            "margin": null,
            "max_height": null,
            "max_width": null,
            "min_height": null,
            "min_width": null,
            "object_fit": null,
            "object_position": null,
            "order": null,
            "overflow": null,
            "overflow_x": null,
            "overflow_y": null,
            "padding": null,
            "right": null,
            "top": null,
            "visibility": null,
            "width": null
          }
        },
        "d93d7241fb104fe6bd7aec35a4859791": {
          "model_module": "@jupyter-widgets/controls",
          "model_name": "DescriptionStyleModel",
          "state": {
            "_model_module": "@jupyter-widgets/controls",
            "_model_module_version": "1.5.0",
            "_model_name": "DescriptionStyleModel",
            "_view_count": null,
            "_view_module": "@jupyter-widgets/base",
            "_view_module_version": "1.2.0",
            "_view_name": "StyleView",
            "description_width": ""
          }
        },
        "dbd0d1bcd58440aaab9e83ec3d12a12d": {
          "model_module": "@jupyter-widgets/controls",
          "model_name": "HTMLModel",
          "state": {
            "_dom_classes": [],
            "_model_module": "@jupyter-widgets/controls",
            "_model_module_version": "1.5.0",
            "_model_name": "HTMLModel",
            "_view_count": null,
            "_view_module": "@jupyter-widgets/controls",
            "_view_module_version": "1.5.0",
            "_view_name": "HTMLView",
            "description": "",
            "description_tooltip": null,
            "layout": "IPY_MODEL_bea98f122b4a472cb60df5a5443a2cba",
            "placeholder": "​",
            "style": "IPY_MODEL_d93d7241fb104fe6bd7aec35a4859791",
            "value": " 1400/1400 [1:17:59&lt;00:00,  3.34s/it]"
          }
        },
        "dd32f7f4041f4ca9b7de39abbf668168": {
          "model_module": "@jupyter-widgets/base",
          "model_name": "LayoutModel",
          "state": {
            "_model_module": "@jupyter-widgets/base",
            "_model_module_version": "1.2.0",
            "_model_name": "LayoutModel",
            "_view_count": null,
            "_view_module": "@jupyter-widgets/base",
            "_view_module_version": "1.2.0",
            "_view_name": "LayoutView",
            "align_content": null,
            "align_items": null,
            "align_self": null,
            "border": null,
            "bottom": null,
            "display": null,
            "flex": null,
            "flex_flow": null,
            "grid_area": null,
            "grid_auto_columns": null,
            "grid_auto_flow": null,
            "grid_auto_rows": null,
            "grid_column": null,
            "grid_gap": null,
            "grid_row": null,
            "grid_template_areas": null,
            "grid_template_columns": null,
            "grid_template_rows": null,
            "height": null,
            "justify_content": null,
            "justify_items": null,
            "left": null,
            "margin": null,
            "max_height": null,
            "max_width": null,
            "min_height": null,
            "min_width": null,
            "object_fit": null,
            "object_position": null,
            "order": null,
            "overflow": null,
            "overflow_x": null,
            "overflow_y": null,
            "padding": null,
            "right": null,
            "top": null,
            "visibility": null,
            "width": null
          }
        },
        "df60ecbf90f1442a90f88d78eba82acd": {
          "model_module": "@jupyter-widgets/controls",
          "model_name": "FloatProgressModel",
          "state": {
            "_dom_classes": [],
            "_model_module": "@jupyter-widgets/controls",
            "_model_module_version": "1.5.0",
            "_model_name": "FloatProgressModel",
            "_view_count": null,
            "_view_module": "@jupyter-widgets/controls",
            "_view_module_version": "1.5.0",
            "_view_name": "ProgressView",
            "bar_style": "success",
            "description": "100%",
            "description_tooltip": null,
            "layout": "IPY_MODEL_5acbf8eea98e47a58d6463d552eeab9f",
            "max": 200,
            "min": 0,
            "orientation": "horizontal",
            "style": "IPY_MODEL_346ec33dbaed4c439426b183cb4d79f9",
            "value": 200
          }
        },
        "e05b3911c9164028bd923e91f2233fc5": {
          "model_module": "@jupyter-widgets/controls",
          "model_name": "DescriptionStyleModel",
          "state": {
            "_model_module": "@jupyter-widgets/controls",
            "_model_module_version": "1.5.0",
            "_model_name": "DescriptionStyleModel",
            "_view_count": null,
            "_view_module": "@jupyter-widgets/base",
            "_view_module_version": "1.2.0",
            "_view_name": "StyleView",
            "description_width": ""
          }
        },
        "f038d4991a3c4f32b36de94ee5e71956": {
          "model_module": "@jupyter-widgets/base",
          "model_name": "LayoutModel",
          "state": {
            "_model_module": "@jupyter-widgets/base",
            "_model_module_version": "1.2.0",
            "_model_name": "LayoutModel",
            "_view_count": null,
            "_view_module": "@jupyter-widgets/base",
            "_view_module_version": "1.2.0",
            "_view_name": "LayoutView",
            "align_content": null,
            "align_items": null,
            "align_self": null,
            "border": null,
            "bottom": null,
            "display": null,
            "flex": null,
            "flex_flow": null,
            "grid_area": null,
            "grid_auto_columns": null,
            "grid_auto_flow": null,
            "grid_auto_rows": null,
            "grid_column": null,
            "grid_gap": null,
            "grid_row": null,
            "grid_template_areas": null,
            "grid_template_columns": null,
            "grid_template_rows": null,
            "height": null,
            "justify_content": null,
            "justify_items": null,
            "left": null,
            "margin": null,
            "max_height": null,
            "max_width": null,
            "min_height": null,
            "min_width": null,
            "object_fit": null,
            "object_position": null,
            "order": null,
            "overflow": null,
            "overflow_x": null,
            "overflow_y": null,
            "padding": null,
            "right": null,
            "top": null,
            "visibility": null,
            "width": null
          }
        },
        "f14e958dd1214f488a8c8de587033a9a": {
          "model_module": "@jupyter-widgets/controls",
          "model_name": "ProgressStyleModel",
          "state": {
            "_model_module": "@jupyter-widgets/controls",
            "_model_module_version": "1.5.0",
            "_model_name": "ProgressStyleModel",
            "_view_count": null,
            "_view_module": "@jupyter-widgets/base",
            "_view_module_version": "1.2.0",
            "_view_name": "StyleView",
            "bar_color": null,
            "description_width": "initial"
          }
        },
        "f2ba47ae8f664c64a766f7d61a5f8c92": {
          "model_module": "@jupyter-widgets/controls",
          "model_name": "HBoxModel",
          "state": {
            "_dom_classes": [],
            "_model_module": "@jupyter-widgets/controls",
            "_model_module_version": "1.5.0",
            "_model_name": "HBoxModel",
            "_view_count": null,
            "_view_module": "@jupyter-widgets/controls",
            "_view_module_version": "1.5.0",
            "_view_name": "HBoxView",
            "box_style": "",
            "children": [
              "IPY_MODEL_2b84e2c6d05e4332b544a4fc5107a359",
              "IPY_MODEL_cb1e0deabe7a493c805838a6ce4abffe"
            ],
            "layout": "IPY_MODEL_b64456626c0f480785e687b75b55167f"
          }
        },
        "f6874936426e4b8f808e4658534eb269": {
          "model_module": "@jupyter-widgets/base",
          "model_name": "LayoutModel",
          "state": {
            "_model_module": "@jupyter-widgets/base",
            "_model_module_version": "1.2.0",
            "_model_name": "LayoutModel",
            "_view_count": null,
            "_view_module": "@jupyter-widgets/base",
            "_view_module_version": "1.2.0",
            "_view_name": "LayoutView",
            "align_content": null,
            "align_items": null,
            "align_self": null,
            "border": null,
            "bottom": null,
            "display": null,
            "flex": null,
            "flex_flow": null,
            "grid_area": null,
            "grid_auto_columns": null,
            "grid_auto_flow": null,
            "grid_auto_rows": null,
            "grid_column": null,
            "grid_gap": null,
            "grid_row": null,
            "grid_template_areas": null,
            "grid_template_columns": null,
            "grid_template_rows": null,
            "height": null,
            "justify_content": null,
            "justify_items": null,
            "left": null,
            "margin": null,
            "max_height": null,
            "max_width": null,
            "min_height": null,
            "min_width": null,
            "object_fit": null,
            "object_position": null,
            "order": null,
            "overflow": null,
            "overflow_x": null,
            "overflow_y": null,
            "padding": null,
            "right": null,
            "top": null,
            "visibility": null,
            "width": null
          }
        },
        "fb3436618f424416bfc553a1c365216e": {
          "model_module": "@jupyter-widgets/controls",
          "model_name": "ProgressStyleModel",
          "state": {
            "_model_module": "@jupyter-widgets/controls",
            "_model_module_version": "1.5.0",
            "_model_name": "ProgressStyleModel",
            "_view_count": null,
            "_view_module": "@jupyter-widgets/base",
            "_view_module_version": "1.2.0",
            "_view_name": "StyleView",
            "bar_color": null,
            "description_width": "initial"
          }
        },
        "fe29a31b78704bdb81c8e1b53adfa638": {
          "model_module": "@jupyter-widgets/controls",
          "model_name": "ProgressStyleModel",
          "state": {
            "_model_module": "@jupyter-widgets/controls",
            "_model_module_version": "1.5.0",
            "_model_name": "ProgressStyleModel",
            "_view_count": null,
            "_view_module": "@jupyter-widgets/base",
            "_view_module_version": "1.2.0",
            "_view_name": "StyleView",
            "bar_color": null,
            "description_width": "initial"
          }
        }
      }
    }
  },
  "nbformat": 4,
  "nbformat_minor": 0
}
